{
 "cells": [
  {
   "cell_type": "markdown",
   "metadata": {},
   "source": [
    "# Learning based methods\n",
    "\n",
    "This is a model which takes a collection of images and figures out how to align them using an unsupervised approach. It is based on a paper by de Vos, Beredensen, Viergever, Sokooti, Staring, Isgum: [https://arxiv.org/pdf/1809.06130.pdf]()."
   ]
  },
  {
   "cell_type": "code",
   "execution_count": 1,
   "metadata": {},
   "outputs": [
    {
     "name": "stderr",
     "output_type": "stream",
     "text": [
      "C:\\Users\\TWright\\Anaconda3\\envs\\tensorflow-gpu\\lib\\site-packages\\h5py\\__init__.py:36: FutureWarning: Conversion of the second argument of issubdtype from `float` to `np.floating` is deprecated. In future, it will be treated as `np.float64 == np.dtype(float).type`.\n",
      "  from ._conv import register_converters as _register_converters\n"
     ]
    },
    {
     "name": "stdout",
     "output_type": "stream",
     "text": [
      "[name: \"/device:CPU:0\"\n",
      "device_type: \"CPU\"\n",
      "memory_limit: 268435456\n",
      "locality {\n",
      "}\n",
      "incarnation: 7290081096505623389\n",
      ", name: \"/device:GPU:0\"\n",
      "device_type: \"GPU\"\n",
      "memory_limit: 3389853696\n",
      "locality {\n",
      "  bus_id: 1\n",
      "  links {\n",
      "  }\n",
      "}\n",
      "incarnation: 15052020697823198648\n",
      "physical_device_desc: \"device: 0, name: GeForce GTX 970, pci bus id: 0000:01:00.0, compute capability: 5.2\"\n",
      "]\n"
     ]
    },
    {
     "data": {
      "text/plain": [
       "<tensorflow.python.client.session.Session at 0x4d0fac8>"
      ]
     },
     "execution_count": 1,
     "metadata": {},
     "output_type": "execute_result"
    }
   ],
   "source": [
    "import glob\n",
    "import pandas as pd\n",
    "import numpy as np\n",
    "\n",
    "import tensorflow as tf\n",
    "from tensorflow.python.client import device_lib\n",
    "print(device_lib.list_local_devices())\n",
    "\n",
    "config = tf.ConfigProto()\n",
    "# config.gpu_options.allocator_type = 'BFC'\n",
    "tf.Session(config = config)"
   ]
  },
  {
   "cell_type": "code",
   "execution_count": 2,
   "metadata": {},
   "outputs": [
    {
     "data": {
      "text/plain": [
       "['../data/learning\\\\Tp26_Y000_X000_040.tif',\n",
       " '../data/learning\\\\Tp26_Y000_X001_040.tif',\n",
       " '../data/learning\\\\Tp26_Y000_X002_040.tif',\n",
       " '../data/learning\\\\Tp26_Y000_X003_040.tif',\n",
       " '../data/learning\\\\Tp26_Y000_X004_040.tif']"
      ]
     },
     "execution_count": 2,
     "metadata": {},
     "output_type": "execute_result"
    }
   ],
   "source": [
    "def load_img_paths(target):\n",
    "    '''\n",
    "    Retrieve the full path of all images in the dataset\n",
    "    '''\n",
    "    return glob.glob(target + '/*.tif')\n",
    "\n",
    "data_dir = r'../data'\n",
    "original_data_dir = data_dir + ('/learning')\n",
    "all_files = pd.DataFrame(load_img_paths(original_data_dir))\n",
    "train_paths = all_files[0].values.tolist()\n",
    "train_paths[:5]"
   ]
  },
  {
   "cell_type": "markdown",
   "metadata": {},
   "source": [
    "## Network\n",
    "\n",
    "> A ConvNet design for affine image registration. The network analyzes pairs of fixed and moving images in separate pipelines. Ending each pipeline with global average pooling enables analysis of input images of different sizes, and allows concatenation with the fully connected layers that have a fixed number of nodes connected to 12 affne transformation parameter outputs.\n",
    "\n",
    "> The two separate pipelines analyze input pairs of fixed and moving images and each consist of five alternating 3x3x3 convolution layers and 2x2x2 downsampling layers. The number of these layers may vary, depending on task complexity and input image size. The weights of the layers are shared between the two pipelines to limit the number of total parameters in the network.\n",
    "\n",
    "> The Conv-Nets were initialized with Glorot's uniform distribution (Glorot and Bengio, 2010) and optimized with Adam.\n",
    "\n",
    "> Subsequently, the network can be connected to a neural network work that will decode the relative orientations of the fixed and moving images and convert those to 12 affine transformation parameters: *three translation*, *three rotation*, *three scaling*, and *three shearing parameters*.\n",
    "\n",
    "2D images -> 6 parameters"
   ]
  },
  {
   "cell_type": "code",
   "execution_count": 91,
   "metadata": {},
   "outputs": [],
   "source": [
    "from keras import backend as K\n",
    "from keras.layers.core import Dense\n",
    "from keras.layers.convolutional import Convolution2D\n",
    "from keras.layers import Input, Conv2D, AveragePooling2D, GlobalAveragePooling2D, concatenate, Reshape\n",
    "from keras.models import Sequential, Model\n",
    "\n",
    "from m_stn import BilinearInterpolation\n",
    "\n",
    "def correlation_coefficient_loss(y_true, y_pred):\n",
    "    '''\n",
    "    Same as pearson coefficient\n",
    "    https://stackoverflow.com/a/46620771\n",
    "    '''\n",
    "    x = y_true\n",
    "    y = y_pred\n",
    "    mx = K.mean(x)\n",
    "    my = K.mean(y)\n",
    "    xm, ym = x-mx, y-my\n",
    "    r_num = K.sum(tf.multiply(xm,ym))\n",
    "    r_den = K.sqrt(tf.multiply(K.sum(K.square(xm)), K.sum(K.square(ym))))\n",
    "    r_den = K.maximumr_den(r_den, 1.0)\n",
    "    r = r_num / r_den # this can produce NaN\n",
    "\n",
    "    r = K.maximum(K.minimum(r, 1.0), -1.0)\n",
    "    return 1 - K.square(r)\n",
    "\n",
    "def SSD_loss(x, y):\n",
    "    '''\n",
    "    Sum squared differences\n",
    "    '''\n",
    "    return K.square(x - y)\n",
    "\n",
    "def get_initial_weights(output_size):\n",
    "    '''\n",
    "    Initialize the weights as an identity matrix.\n",
    "    '''\n",
    "    b = np.zeros((2, 3), dtype='float32') # should this really all be 0?\n",
    "    b[0, 0] = 1\n",
    "    b[1, 1] = 1\n",
    "    b[0,2] = np.random.random() * 0.1\n",
    "    b[1,2] = np.random.random() * 0.1\n",
    "    W = np.zeros((output_size, 6), dtype='float32')\n",
    "    weights = [W, b.flatten()]\n",
    "    return weights\n",
    "\n",
    "def dlir_layer(m1, m2, filters):\n",
    "    '''\n",
    "    alternating 3x3 convolution layers and 2x2 downsampling layers\n",
    "    '''\n",
    "    conv= Conv2D(filters, (3,3), activation='relu', padding='same')\n",
    "    avg = AveragePooling2D() # default size is 2x2\n",
    "    return avg(conv(m1)), avg(conv(m2))\n",
    "    \n",
    "def affine_pipeline(input_shape, conv_layers):\n",
    "    '''\n",
    "    five alternating 3x3 convolution layers and 2x2 downsampling layers\n",
    "    Ending each pipeline with global average pooling\n",
    "    '''\n",
    "    assert conv_layers >= 1, 'There needs to be at least one conv layer'\n",
    "    filters = 32\n",
    "    in1 = Input(shape=input_shape, name='reference_input')\n",
    "    in2 = Input(shape=input_shape, name='moving_input')\n",
    "    \n",
    "    for i in range(0,conv_layers):\n",
    "        if i == 0:\n",
    "            m1, m2 = dlir_layer(in1, in2, filters)\n",
    "        m1, m2 = dlir_layer(m1, m2, filters)\n",
    "    \n",
    "    conv = Conv2D(filters, (3,3), activation='relu', padding='same')\n",
    "    glob_avg = GlobalAveragePooling2D()\n",
    "    \n",
    "    return in1, in2, glob_avg(conv(m1)), glob_avg(conv(m2))\n",
    "    \n",
    "def my_DLIR(input_shape, conv_layers=4):\n",
    "    '''\n",
    "    Implement DLIR architecture\n",
    "    '''\n",
    "    input_1, input_2, moving_pipeline, reference_pipeline = affine_pipeline(input_shape, conv_layers)\n",
    "    \n",
    "    cat = concatenate([moving_pipeline, reference_pipeline])\n",
    "    dense_size = 4096\n",
    "    cat = Dense(dense_size, activation='relu')(cat)\n",
    "    affine_transform = Dense(6, activation='linear', weights=get_initial_weights(dense_size), \\\n",
    "                             name='affine_params')(cat)\n",
    "    image_output = BilinearInterpolation(input_shape[:-1])([input_2, affine_transform])\n",
    "    return Model(inputs=[input_1, input_2], outputs=[image_output])\n"
   ]
  },
  {
   "cell_type": "code",
   "execution_count": 98,
   "metadata": {
    "scrolled": true
   },
   "outputs": [
    {
     "name": "stdout",
     "output_type": "stream",
     "text": [
      "__________________________________________________________________________________________________\n",
      "Layer (type)                    Output Shape         Param #     Connected to                     \n",
      "==================================================================================================\n",
      "moving_input (InputLayer)       (None, 195, 256, 1)  0                                            \n",
      "__________________________________________________________________________________________________\n",
      "reference_input (InputLayer)    (None, 195, 256, 1)  0                                            \n",
      "__________________________________________________________________________________________________\n",
      "conv2d_63 (Conv2D)              (None, 195, 256, 32) 320         reference_input[0][0]            \n",
      "                                                                 moving_input[0][0]               \n",
      "__________________________________________________________________________________________________\n",
      "average_pooling2d_53 (AveragePo (None, 97, 128, 32)  0           conv2d_63[0][0]                  \n",
      "                                                                 conv2d_63[1][0]                  \n",
      "__________________________________________________________________________________________________\n",
      "conv2d_64 (Conv2D)              (None, 97, 128, 32)  9248        average_pooling2d_53[0][0]       \n",
      "                                                                 average_pooling2d_53[1][0]       \n",
      "__________________________________________________________________________________________________\n",
      "average_pooling2d_54 (AveragePo (None, 48, 64, 32)   0           conv2d_64[0][0]                  \n",
      "                                                                 conv2d_64[1][0]                  \n",
      "__________________________________________________________________________________________________\n",
      "conv2d_65 (Conv2D)              (None, 48, 64, 32)   9248        average_pooling2d_54[0][0]       \n",
      "                                                                 average_pooling2d_54[1][0]       \n",
      "__________________________________________________________________________________________________\n",
      "average_pooling2d_55 (AveragePo (None, 24, 32, 32)   0           conv2d_65[0][0]                  \n",
      "                                                                 conv2d_65[1][0]                  \n",
      "__________________________________________________________________________________________________\n",
      "conv2d_66 (Conv2D)              (None, 24, 32, 32)   9248        average_pooling2d_55[0][0]       \n",
      "                                                                 average_pooling2d_55[1][0]       \n",
      "__________________________________________________________________________________________________\n",
      "average_pooling2d_56 (AveragePo (None, 12, 16, 32)   0           conv2d_66[0][0]                  \n",
      "                                                                 conv2d_66[1][0]                  \n",
      "__________________________________________________________________________________________________\n",
      "conv2d_67 (Conv2D)              (None, 12, 16, 32)   9248        average_pooling2d_56[0][0]       \n",
      "                                                                 average_pooling2d_56[1][0]       \n",
      "__________________________________________________________________________________________________\n",
      "average_pooling2d_57 (AveragePo (None, 6, 8, 32)     0           conv2d_67[0][0]                  \n",
      "                                                                 conv2d_67[1][0]                  \n",
      "__________________________________________________________________________________________________\n",
      "conv2d_68 (Conv2D)              (None, 6, 8, 32)     9248        average_pooling2d_57[0][0]       \n",
      "                                                                 average_pooling2d_57[1][0]       \n",
      "__________________________________________________________________________________________________\n",
      "average_pooling2d_58 (AveragePo (None, 3, 4, 32)     0           conv2d_68[0][0]                  \n",
      "                                                                 conv2d_68[1][0]                  \n",
      "__________________________________________________________________________________________________\n",
      "conv2d_69 (Conv2D)              (None, 3, 4, 32)     9248        average_pooling2d_58[0][0]       \n",
      "                                                                 average_pooling2d_58[1][0]       \n",
      "__________________________________________________________________________________________________\n",
      "average_pooling2d_59 (AveragePo (None, 1, 2, 32)     0           conv2d_69[0][0]                  \n",
      "                                                                 conv2d_69[1][0]                  \n",
      "__________________________________________________________________________________________________\n",
      "conv2d_70 (Conv2D)              (None, 1, 2, 32)     9248        average_pooling2d_59[0][0]       \n",
      "                                                                 average_pooling2d_59[1][0]       \n",
      "__________________________________________________________________________________________________\n",
      "global_average_pooling2d_11 (Gl (None, 32)           0           conv2d_70[0][0]                  \n",
      "                                                                 conv2d_70[1][0]                  \n",
      "__________________________________________________________________________________________________\n",
      "concatenate_11 (Concatenate)    (None, 64)           0           global_average_pooling2d_11[0][0]\n",
      "                                                                 global_average_pooling2d_11[1][0]\n",
      "__________________________________________________________________________________________________\n",
      "dense_11 (Dense)                (None, 4096)         266240      concatenate_11[0][0]             \n",
      "__________________________________________________________________________________________________\n",
      "affine_params (Dense)           (None, 6)            24582       dense_11[0][0]                   \n",
      "__________________________________________________________________________________________________\n",
      "bilinear_interpolation_11 (Bili (None, 195, 256, 1)  0           moving_input[0][0]               \n",
      "                                                                 affine_params[0][0]              \n",
      "==================================================================================================\n",
      "Total params: 355,878\n",
      "Trainable params: 355,878\n",
      "Non-trainable params: 0\n",
      "__________________________________________________________________________________________________\n"
     ]
    }
   ],
   "source": [
    "from keras.optimizers import Adam\n",
    "from skimage.io import imread\n",
    "\n",
    "def aspect_resize(newsize, shape):\n",
    "    '''\n",
    "    Given an integer and a shape, return a tuple with the longest side of the shape = newsize\n",
    "    '''\n",
    "    m = np.argmax(shape)\n",
    "    if m == 0:\n",
    "        return (newsize, int(shape[1] / (shape[0] / newsize)))\n",
    "    return (int(shape[0] / (shape[1] / newsize)), newsize, 1)\n",
    "\n",
    "orig_shape = imread(train_paths[0]).shape\n",
    "img_size = aspect_resize(256, orig_shape)\n",
    "\n",
    "my_model = my_DLIR(img_size, conv_layers=6)\n",
    "lr = 1e-4\n",
    "my_model.compile(loss='mse', optimizer=Adam(lr=lr))\n",
    "# my_model.compile(loss=correlation_coefficient_loss, optimizer=Adam(lr=lr))\n",
    "# my_model.compile(loss=SSD_loss, optimizer=Adam(lr=lr))\n",
    "my_model.summary()"
   ]
  },
  {
   "cell_type": "code",
   "execution_count": 93,
   "metadata": {
    "scrolled": true
   },
   "outputs": [
    {
     "name": "stdout",
     "output_type": "stream",
     "text": [
      "tmp directory already exists\n"
     ]
    }
   ],
   "source": [
    "from os import path\n",
    "from keras.callbacks import ModelCheckpoint, Callback, EarlyStopping\n",
    "from keras.preprocessing.image import img_to_array, load_img\n",
    "from keras.utils import Sequence\n",
    "from skimage.transform import resize, rotate\n",
    "\n",
    "\n",
    "class LossHistory(Callback):\n",
    "    def on_train_begin(self, logs={}):\n",
    "        self.losses = []\n",
    "        self.val_losses = []\n",
    "\n",
    "    def on_batch_end(self, batch, logs={}):\n",
    "        self.losses.append(logs.get('loss'))\n",
    "        self.val_losses.append(logs.get('val_loss'))\n",
    "        \n",
    "        \n",
    "def image_pair_coords(fname, ymin=0, ymax=7, xmin=0, xmax=14):\n",
    "    '''\n",
    "    get an image's pair in one for four directions\n",
    "    '''\n",
    "    im_coords = path.split(fname)[-1] \\\n",
    "                        .split('.')[0]    \\\n",
    "                        .split('_')[1:3]\n",
    "    good_direction = False\n",
    "    while not good_direction:\n",
    "        #     direction = np.random.randint(0,4)\n",
    "        direction = np.random.choice([1,3]) # horizontal only\n",
    "        y_part = int(im_coords[0].split('Y')[1])\n",
    "        x_part = int(im_coords[1].split('X')[1])\n",
    "        if direction == 0:\n",
    "            y_part -=1\n",
    "        elif direction == 1:\n",
    "            x_part +=1\n",
    "        elif direction == 2:\n",
    "            y_part +=1\n",
    "        else: #direction == 3:\n",
    "            x_part -=1\n",
    "            \n",
    "        if x_part >= xmin and x_part <= xmax and \\\n",
    "           y_part >= ymin and y_part <= ymax:\n",
    "            good_direction = True\n",
    "\n",
    "    ystr = str(y_part).rjust(2,'0')\n",
    "    xstr = str(x_part).rjust(2,'0')\n",
    "    fpath = path.split(fname)[:-1][0]\n",
    "    next_fname = path.join(fpath, 'Tp26_Y0%s_X0%s_040.tif' % (ystr, xstr))\n",
    "    return next_fname       \n",
    "        \n",
    "    \n",
    "class DataGenerator(Sequence):\n",
    "    '''\n",
    "    Adapted from https://stanford.edu/~shervine/blog/keras-how-to-generate-data-on-the-fly.html\n",
    "    Allows for multiprocessing in the fit generator\n",
    "    '''\n",
    "\n",
    "    def __init__(self, train_set, batch_size, im_size):\n",
    "        self.train = train_set\n",
    "        self.batch_size = batch_size\n",
    "        self.im_size = im_size\n",
    "\n",
    "    def __len__(self):\n",
    "        return int(np.ceil(len(self.train) / float(self.batch_size)))\n",
    "\n",
    "    def read_image(self, fname):\n",
    "        return load_img(fname, target_size=self.im_size, grayscale=True)\n",
    "    \n",
    "    def read_images(self, f1, f2):\n",
    "        x1 = load_img(f1, target_size=self.im_size, grayscale=True)\n",
    "        x2 = load_img(f2, target_size=self.im_size, grayscale=True)\n",
    "        return img_to_array(x1), img_to_array(x2)\n",
    "    \n",
    "    # Will output sequence of tuples (image, test) given a datapath\n",
    "    def __getitem__(self, idx):\n",
    "        X1 = np.zeros(shape=(batch_size, self.im_size[0], self.im_size[1], 1))\n",
    "        X2 = np.zeros(shape=(batch_size, self.im_size[0], self.im_size[1], 1))\n",
    "        y  = np.zeros(shape=(batch_size, self.im_size[0], self.im_size[1], 1))\n",
    "        batch = self.train[idx * self.batch_size:(idx + 1) * self.batch_size]\n",
    "        for j,fname in enumerate(batch):\n",
    "            # to speed this up: preprocess the images so they aren't resized on the fly\n",
    "            fname_moving = image_pair_coords(fname)\n",
    "            x1,x2 = self.read_images(fname, fname_moving)\n",
    "            X1[j] = x1\n",
    "            X2[j] = x2\n",
    "            y[j] = X1[j]\n",
    "        return ([X1, X2], y)\n",
    "\n",
    "    \n",
    "class AugmentedDataGenerator(DataGenerator):\n",
    "    '''\n",
    "    Same as DataGenerator but augments data by overriding `read_image`.\n",
    "    '''\n",
    "    \n",
    "#     def rand_augment(self, img):\n",
    "#         minmax = 45 # in the range of -45 to 45\n",
    "#         angle = np.random.randint(0, high=minmax) - (minmax*2)\n",
    "#         return rotate(img, -angle)\n",
    "    \n",
    "    def read_images(self, f1, f2):\n",
    "        x1 = img_to_array(load_img(f1, target_size=self.im_size, grayscale=True))\n",
    "        x2 = img_to_array(load_img(f2, target_size=self.im_size, grayscale=True))\n",
    "        flip_dir = np.random.choice([None, 0, 1])\n",
    "        if flip_dir != None:\n",
    "            x1 = np.flip(x1, flip_dir)\n",
    "            x2 = np.flip(x2, flip_dir)\n",
    "        return x1, x2\n",
    "    \n",
    "    \n",
    "early_stopping = EarlyStopping(monitor='val_loss', patience=5, verbose=1, mode='auto')\n",
    "\n",
    "# create weights file if it doesn't exist for ModelCheckpoint\n",
    "from os import mkdir\n",
    "try: \n",
    "    mkdir('tmp')\n",
    "except FileExistsError:\n",
    "    print('tmp directory already exists')\n",
    "\n",
    "history = LossHistory()"
   ]
  },
  {
   "cell_type": "code",
   "execution_count": 99,
   "metadata": {
    "scrolled": true
   },
   "outputs": [
    {
     "name": "stdout",
     "output_type": "stream",
     "text": [
      "Epoch 1/10\n",
      " - 6s - loss: 35192.3611\n",
      "Epoch 2/10\n"
     ]
    },
    {
     "name": "stderr",
     "output_type": "stream",
     "text": [
      "C:\\Users\\TWright\\Anaconda3\\envs\\tensorflow-gpu\\lib\\site-packages\\keras\\callbacks.py:435: RuntimeWarning: Can save best model only with val_loss available, skipping.\n",
      "  'skipping.' % (self.monitor), RuntimeWarning)\n",
      "C:\\Users\\TWright\\Anaconda3\\envs\\tensorflow-gpu\\lib\\site-packages\\keras\\callbacks.py:526: RuntimeWarning: Early stopping conditioned on metric `val_loss` which is not available. Available metrics are: loss\n",
      "  (self.monitor, ','.join(list(logs.keys()))), RuntimeWarning\n"
     ]
    },
    {
     "name": "stdout",
     "output_type": "stream",
     "text": [
      " - 2s - loss: 35192.3611\n",
      "Epoch 3/10\n",
      " - 2s - loss: 35192.3609\n",
      "Epoch 4/10\n",
      " - 2s - loss: 35192.3611\n",
      "Epoch 5/10\n",
      " - 2s - loss: 35192.3612\n",
      "Epoch 6/10\n",
      " - 2s - loss: 35192.3608\n",
      "Epoch 7/10\n",
      " - 2s - loss: 35192.3612\n",
      "Epoch 8/10\n",
      " - 2s - loss: 35192.3612\n",
      "Epoch 9/10\n",
      " - 2s - loss: 35192.3613\n",
      "Epoch 10/10\n",
      " - 2s - loss: 35192.3611\n"
     ]
    }
   ],
   "source": [
    "batch_size = 2\n",
    "epochs     = 10\n",
    "\n",
    "training_generator   = AugmentedDataGenerator(train_paths, batch_size, img_size)\n",
    "# training_generator   = DataGenerator(train_paths, batch_size, img_size)\n",
    "\n",
    "# descriptive weight file naming\n",
    "checkpointer = ModelCheckpoint(filepath=('tmp/weights-%d-%d.hdf5' % \n",
    "                                         (batch_size, img_size[0])), \n",
    "                               verbose=1, save_best_only=True)\n",
    "\n",
    "hist = my_model.fit_generator(training_generator, \n",
    "    epochs=epochs,\n",
    "    workers=3,\n",
    "    verbose=2,\n",
    "    callbacks=[history, checkpointer, early_stopping]\n",
    ")"
   ]
  },
  {
   "cell_type": "code",
   "execution_count": 100,
   "metadata": {
    "scrolled": true
   },
   "outputs": [
    {
     "data": {
      "image/png": "[encoded data removed]",
      "text/plain": [
       "<Figure size 864x576 with 1 Axes>"
      ]
     },
     "metadata": {},
     "output_type": "display_data"
    }
   ],
   "source": [
    "import matplotlib.pylab as plt\n",
    "%matplotlib inline\n",
    "\n",
    "plt.figure(figsize=(12,8))\n",
    "plt.plot(hist.epoch[1:],hist.history['loss'][1:], label='Test')\n",
    "# plt.plot(hist.epoch,hist.history['val_loss'],label='Validation',linestyle='--')\n",
    "plt.xlabel('Epochs')\n",
    "plt.ylabel('Loss')\n",
    "plt.legend()\n",
    "plt.show()"
   ]
  },
  {
   "cell_type": "code",
   "execution_count": 101,
   "metadata": {
    "scrolled": true
   },
   "outputs": [
    {
     "name": "stdout",
     "output_type": "stream",
     "text": [
      "../data/learning\\Tp26_Y000_X004_040.tif ../data/learning\\Tp26_Y000_X005_040.tif\n"
     ]
    },
    {
     "name": "stderr",
     "output_type": "stream",
     "text": [
      "C:\\Users\\TWright\\Anaconda3\\envs\\tensorflow-gpu\\lib\\site-packages\\skimage\\transform\\_warps.py:84: UserWarning: The default mode, 'constant', will be changed to 'reflect' in skimage 0.15.\n",
      "  warn(\"The default mode, 'constant', will be changed to 'reflect' in \"\n"
     ]
    }
   ],
   "source": [
    "f1 = train_paths[4]\n",
    "f2 = train_paths[5]\n",
    "print(f1,f2)\n",
    "\n",
    "im1 = resize(imread(f1), img_size).reshape(-1, *img_size)\n",
    "im2 = resize(imread(f2), img_size).reshape(-1, *img_size)\n",
    "# im2 = resize(rotate(imread(train_paths[1]), 10), img_size).reshape(-1, *img_size)\n",
    "\n",
    "im3 = my_model.predict([im1, im2])"
   ]
  },
  {
   "cell_type": "code",
   "execution_count": 102,
   "metadata": {},
   "outputs": [
    {
     "name": "stdout",
     "output_type": "stream",
     "text": [
      "[[1.        0.        1.7251396]\n",
      " [0.        1.        9.36724  ]]\n"
     ]
    },
    {
     "data": {
      "image/png": "[encoded data removed]",
      "text/plain": [
       "<Figure size 432x288 with 1 Axes>"
      ]
     },
     "metadata": {},
     "output_type": "display_data"
    }
   ],
   "source": [
    "# a model which does not include the STN and outputs the predicted affine translation\n",
    "intermediate_model = Model(inputs=[my_model.get_layer('reference_input').input, \n",
    "                                   my_model.get_layer('moving_input').input], \n",
    "                           outputs=[my_model.get_layer('affine_params').output])\n",
    "M = intermediate_model.predict([im1, im2])[0].reshape(2,3)\n",
    "M[0,2] *= img_size[1]\n",
    "M[1,2] *= img_size[0]\n",
    "print(M)\n",
    "plt.imshow(im3[0][:,:,-1], cmap='gray')\n",
    "plt.show()"
   ]
  },
  {
   "cell_type": "code",
   "execution_count": null,
   "metadata": {},
   "outputs": [],
   "source": []
  }
 ],
 "metadata": {
  "kernelspec": {
   "display_name": "Python 3",
   "language": "python",
   "name": "python3"
  },
  "language_info": {
   "codemirror_mode": {
    "name": "ipython",
    "version": 3
   },
   "file_extension": ".py",
   "mimetype": "text/x-python",
   "name": "python",
   "nbconvert_exporter": "python",
   "pygments_lexer": "ipython3",
   "version": "3.6.5"
  }
 },
 "nbformat": 4,
 "nbformat_minor": 2
}

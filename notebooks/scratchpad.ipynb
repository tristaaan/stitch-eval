{
 "cells": [
  {
   "cell_type": "code",
   "execution_count": 3,
   "metadata": {},
   "outputs": [],
   "source": [
    "import imageio\n",
    "import math\n",
    "import numpy as np"
   ]
  },
  {
   "cell_type": "code",
   "execution_count": 4,
   "metadata": {},
   "outputs": [],
   "source": [
    "def evaluation(stitched, original):\n",
    "  '''\n",
    "  Sum absolute difference\n",
    "  '''\n",
    "  stitched, ow, oh = pad_image(stitched, original.shape)\n",
    "  total_px = ow * oh\n",
    "  differents = np.count_nonzero(original - stitched[:oh,:ow])\n",
    "\n",
    "  # percent the same\n",
    "  return (total_px - differents) / total_px"
   ]
  },
  {
   "cell_type": "code",
   "execution_count": 5,
   "metadata": {},
   "outputs": [],
   "source": [
    "def rot_eval(stitched, original):\n",
    "    pass"
   ]
  },
  {
   "cell_type": "code",
   "execution_count": 6,
   "metadata": {},
   "outputs": [],
   "source": [
    "def pad_image(stitched, target_size):\n",
    "  sw, sh = stitched.shape\n",
    "  tw, th = target_size\n",
    "\n",
    "  nw, nh = (0,0)\n",
    "  if sw < tw:\n",
    "      nw = tw - sw\n",
    "  if sh < th:\n",
    "      nh = th - sh\n",
    "\n",
    "  if nw + nh > 0:\n",
    "    return (np.pad(stitched, ((0, nw), (0, nh)), 'constant', constant_values=(0,0)), tw, th)\n",
    "  return (stitched, tw, th)"
   ]
  },
  {
   "cell_type": "code",
   "execution_count": 7,
   "metadata": {},
   "outputs": [],
   "source": [
    "im1 = imageio.imread('../data/T1_Img_002.00.tif')"
   ]
  },
  {
   "cell_type": "code",
   "execution_count": 8,
   "metadata": {},
   "outputs": [
    {
     "data": {
      "text/plain": [
       "1.0"
      ]
     },
     "execution_count": 8,
     "metadata": {},
     "output_type": "execute_result"
    }
   ],
   "source": [
    "evaluation(im1, im1)"
   ]
  },
  {
   "cell_type": "code",
   "execution_count": 9,
   "metadata": {},
   "outputs": [
    {
     "data": {
      "text/plain": [
       "0.7500000596046448"
      ]
     },
     "execution_count": 9,
     "metadata": {},
     "output_type": "execute_result"
    }
   ],
   "source": [
    "im2 = np.copy(im1)\n",
    "im2[0:2048, 0:2048] = np.ones((2048, 2048), dtype='uint16')\n",
    "evaluation(im1, im2)"
   ]
  },
  {
   "cell_type": "code",
   "execution_count": 10,
   "metadata": {},
   "outputs": [],
   "source": [
    "import math\n",
    "def i_RMSE(stitched, original):\n",
    "    total_px = len(stitched) * len(original)\n",
    "    stitched = stitched.astype('float64') / (100)\n",
    "    original = original.astype('float64') / (100)\n",
    "    abs_err = abs(original - stitched) ** 2\n",
    "    print(abs_err)\n",
    "    return math.sqrt((1/total_px) * abs_err.sum())\n"
   ]
  },
  {
   "cell_type": "code",
   "execution_count": 11,
   "metadata": {},
   "outputs": [
    {
     "name": "stdout",
     "output_type": "stream",
     "text": [
      "[0.0484 0.0676 0.0576 0.4489 0.1156 0.1849]\n"
     ]
    },
    {
     "data": {
      "text/plain": [
       "0.16012148165967266"
      ]
     },
     "execution_count": 11,
     "metadata": {},
     "output_type": "execute_result"
    }
   ],
   "source": [
    "import numpy as np\n",
    "x = np.array([45,67,21,89,33,56])\n",
    "y = np.array([23,41,45,22,67,99])\n",
    "\n",
    "i_RMSE(x,y)"
   ]
  },
  {
   "cell_type": "code",
   "execution_count": 34,
   "metadata": {},
   "outputs": [],
   "source": [
    "def fill_fn(fn, size):\n",
    "    name = fn.__name__\n",
    "    if name == 'NCC':\n",
    "        return np.zeros(size)\n",
    "    elif name == 'SSD' or name == 'SAD':\n",
    "        return np.full(size, np.inf)\n",
    "\n",
    "def convolve(im, template, op):\n",
    "    h_len, w_len = im.shape\n",
    "    th, tw = template.shape\n",
    "    op_res = fill_fn(op, (h_len-1, w_len-1))\n",
    "    for i in range(h_len-th+1):\n",
    "        for j in range(w_len-tw+1):\n",
    "            op_res[i,j] = op(im[i:i+th, j:j+tw], template)\n",
    "    return np.array(op_res)\n",
    "\n",
    "def NCC(i1, i2):\n",
    "    '''\n",
    "    Normalized cross correlation, maximize this\n",
    "    '''\n",
    "    assert sum(i1.shape) == sum(i2.shape), 'i1 and i2 are different shapes'\n",
    "    f_err = i1 - i1.mean()\n",
    "    t_err = i2 - i2.mean()\n",
    "    nom = (f_err * t_err).sum()\n",
    "    dnom = np.square(t_err).sum() * np.square(f_err).sum()\n",
    "    if math.sqrt(dnom) == 0:\n",
    "        return 0\n",
    "    return nom / math.sqrt(dnom)\n",
    "\n",
    "def SSD(i1, i2):\n",
    "    '''\n",
    "    Sum squared differences, minimize this\n",
    "    '''\n",
    "    assert sum(i1.shape) == sum(i2.shape), 'i1 and i2 are different shapes'\n",
    "    sum_square = np.square(i2 - i1).sum() # (A - B)^2 \n",
    "    return sum_square\n",
    "\n",
    "def SAD(i1, i2):\n",
    "    '''\n",
    "    sum absolute differences, minimize this\n",
    "    '''\n",
    "    assert sum(i1.shape) == sum(i2.shape), 'i1 and i2 are different shapes'\n",
    "    sum_absolute = (abs(i2 - i1)).sum() # | A - B | \n",
    "    return sum_absolute"
   ]
  },
  {
   "cell_type": "code",
   "execution_count": 35,
   "metadata": {},
   "outputs": [
    {
     "data": {
      "text/plain": [
       "(2, 3)"
      ]
     },
     "execution_count": 35,
     "metadata": {},
     "output_type": "execute_result"
    }
   ],
   "source": [
    "x = np.array([[1,2],[3,4]])\n",
    "x2 = np.pad(x, ((2,2),(3,2)), 'constant', constant_values=(0,0))\n",
    "\n",
    "corr = convolve(x2, x, SSD)\n",
    "_y, _x = np.unravel_index(np.argmin(corr), corr.shape)  # find the match\n",
    "_y, _x"
   ]
  },
  {
   "cell_type": "code",
   "execution_count": 29,
   "metadata": {},
   "outputs": [
    {
     "data": {
      "text/plain": [
       "array([[30., 30., 30., 30., 30., 30.],\n",
       "       [30., 30., 23., 13., 22., 30.],\n",
       "       [30., 30., 12.,  0., 22., 30.],\n",
       "       [30., 30., 27., 33., 38., 30.],\n",
       "       [30., 30., 30., 30., 30., 30.]])"
      ]
     },
     "execution_count": 29,
     "metadata": {},
     "output_type": "execute_result"
    }
   ],
   "source": [
    "corr"
   ]
  },
  {
   "cell_type": "code",
   "execution_count": 30,
   "metadata": {},
   "outputs": [
    {
     "data": {
      "text/plain": [
       "(2, 3)"
      ]
     },
     "execution_count": 30,
     "metadata": {},
     "output_type": "execute_result"
    }
   ],
   "source": [
    "corr = convolve(x2, x, NCC)\n",
    "_y, _x = np.unravel_index(np.argmax(corr), corr.shape)  # find the match\n",
    "_y, _x"
   ]
  },
  {
   "cell_type": "code",
   "execution_count": 31,
   "metadata": {},
   "outputs": [
    {
     "data": {
      "text/plain": [
       "array([[ 0.        ,  0.        ,  0.        ,  0.        ,  0.        ,\n",
       "         0.        ],\n",
       "       [ 0.        ,  0.        ,  0.77459667,  0.94387981,  0.25819889,\n",
       "         0.        ],\n",
       "       [ 0.        ,  0.        ,  0.73029674,  1.        , -0.13483997,\n",
       "         0.        ],\n",
       "       [ 0.        ,  0.        , -0.25819889, -0.81409158, -0.77459667,\n",
       "         0.        ],\n",
       "       [ 0.        ,  0.        ,  0.        ,  0.        ,  0.        ,\n",
       "         0.        ]])"
      ]
     },
     "execution_count": 31,
     "metadata": {},
     "output_type": "execute_result"
    }
   ],
   "source": [
    "corr"
   ]
  },
  {
   "cell_type": "code",
   "execution_count": null,
   "metadata": {},
   "outputs": [],
   "source": []
  }
 ],
 "metadata": {
  "kernelspec": {
   "display_name": "Python 3",
   "language": "python",
   "name": "python3"
  },
  "language_info": {
   "codemirror_mode": {
    "name": "ipython",
    "version": 3
   },
   "file_extension": ".py",
   "mimetype": "text/x-python",
   "name": "python",
   "nbconvert_exporter": "python",
   "pygments_lexer": "ipython3",
   "version": "3.6.4"
  }
 },
 "nbformat": 4,
 "nbformat_minor": 2
}

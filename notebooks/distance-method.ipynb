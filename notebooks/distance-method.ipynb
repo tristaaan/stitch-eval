{
 "cells": [
  {
   "cell_type": "markdown",
   "metadata": {},
   "source": [
    "# Distance Based Method\n",
    "\n",
    "There are lots of these methods. In my opinion they are all quote obtuse, that is they require some methods which almost feel like brute force.  \n",
    "\n",
    "Some correlation needs to be found and from that some transformation can be derived. There are a few good correlation methods in scymy and numpy.  \n",
    "https://stackoverflow.com/questions/24034839/valueerror-resizing-an-ndarray  \n",
    "https://docs.scipy.org/doc/scipy/reference/generated/scipy.signal.correlate2d.html  \n",
    "\n",
    "Note on correlate2d:\n",
    "> The output is the full **discrete linear cross-correlation** of the inputs. "
   ]
  },
  {
   "cell_type": "code",
   "execution_count": 5,
   "metadata": {},
   "outputs": [],
   "source": [
    "import imageio\n",
    "import math\n",
    "\n",
    "import numpy as np\n",
    "import scipy as sp\n",
    "\n",
    "from PIL import Image\n",
    "from scipy import signal"
   ]
  },
  {
   "cell_type": "markdown",
   "metadata": {},
   "source": [
    "## Some different similarity measurements\n",
    "\n",
    "These similarity measurements do not work nicely but as a proof of concept they're interesting. Each one is just a little off what `correlate2d` can deliver. \n",
    "\n",
    "Per ms-registration-manual, NCC will not work well with these images:\n",
    "\n",
    "> Note, however, that the NCC score is undefined if either of the two patches has zero variance (and in fact, its performance degrades for noisy low-contrast regions).\n",
    "\n",
    "SAD and SSD do not work well either. MI actually gives a decent transformation! \n",
    "\n",
    "Note, with these methods we are not considering fractional displacements, I would suspect that `correlate2d` doesn't either. Per ibid:\n",
    "\n",
    "> In general, the displacement u can be fractional, so a suitable interpolation function must be applied to image I1(x).\n",
    "\n",
    "A final method which improves the accuracy of NCC on noisy images is implemented as NCC whiten, this looks like it helps it work well on these images. (Berberidis, Kerybali)"
   ]
  },
  {
   "cell_type": "code",
   "execution_count": 26,
   "metadata": {},
   "outputs": [],
   "source": [
    "def fill_fn(fn, size):\n",
    "    name = fn.__name__\n",
    "    if name == 'NCC' or name == 'MI' or name == 'SRD':\n",
    "        return np.zeros(size)\n",
    "    elif name == 'SSD' or name == 'SAD':\n",
    "        return np.full(size, np.inf)\n",
    "    else:\n",
    "        raise ValueError('Unrecognized measurement method: %s' % name)\n",
    "\n",
    "def objective_function(measurement): \n",
    "    name = measurement.__name__\n",
    "    if name == 'NCC' or name == 'MI' or name == 'SRD':\n",
    "        return np.argmax\n",
    "    elif name == 'SSD' or name == 'SAD':\n",
    "        return np.argmin\n",
    "    else:\n",
    "        raise ValueError('Unrecognized measurement method: %s' % name)\n",
    "        \n",
    "def convolve(im, template, op):\n",
    "    h_len, w_len = im.shape\n",
    "    th, tw = template.shape\n",
    "    offset_h, offset_w = (int(th/2), int(tw/2))\n",
    "    op_res = fill_fn(op, (h_len, w_len))\n",
    "    for i in range(h_len-th+1):\n",
    "        for j in range(w_len-tw+1):\n",
    "            # slice im to be the area under the template\n",
    "            op_res[i+offset_h, j+offset_w] = op(im[i:i+th, j:j+tw], template)\n",
    "    return op_res\n",
    "\n",
    "def NCC(i1, i2):\n",
    "    '''\n",
    "    Normalized cross correlation, maximize this\n",
    "    '''\n",
    "    assert sum(i1.shape) == sum(i2.shape), 'i1 and i2 are different shapes \"%s\" v \"%s\"' % (i1.shape, i2.shape,) \n",
    "    f_err = i1 - i1.mean()\n",
    "    t_err = i2 - i2.mean()\n",
    "    nom = (f_err * t_err).sum()\n",
    "    dnom = np.square(t_err).sum() * np.square(f_err).sum()\n",
    "    if math.sqrt(dnom) == 0:\n",
    "        return 0\n",
    "    return nom / math.sqrt(dnom)\n",
    "\n",
    "def SSD(i1, i2):\n",
    "    '''\n",
    "    Sum squared differences, minimize this\n",
    "    '''\n",
    "    assert sum(i1.shape) == sum(i2.shape), 'i1 and i2 are different shapes \"%s\" v \"%s\"' % (i1.shape, i2.shape,) \n",
    "    sum_square = np.square(i2 - i1).sum() # (A - B)^2 \n",
    "    return sum_square\n",
    "\n",
    "def SAD(i1, i2):\n",
    "    '''\n",
    "    sum absolute differences, minimize this\n",
    "    '''\n",
    "    assert sum(i1.shape) == sum(i2.shape), 'i1 and i2 are different shapes \"%s\" v \"%s\"' % (i1.shape, i2.shape,) \n",
    "    sum_absolute = (abs(i2 - i1)).sum() # | A - B | \n",
    "    return sum_absolute\n",
    "\n",
    "def SRD(i1, i2):\n",
    "    '''\n",
    "    sum robust differences, objective function depends on the estimator. This is incomplete.\n",
    "    '''\n",
    "    assert sum(i1.shape) == sum(i2.shape), 'i1 and i2 are different shapes \"%s\" v \"%s\"' % (i1.shape, i2.shape,)\n",
    "    f = np.vectorize(huber_p)\n",
    "    return f(i2-i1).sum()\n",
    "\n",
    "def huber_p(u): # minimize\n",
    "    c = 2**15\n",
    "    if abs(u) <= c:\n",
    "        return 0.5 * (u*u)\n",
    "    # |u| > c\n",
    "    return 0.5 * c * (2 * abs(u) - c)\n",
    "\n",
    "def huber_psi(u): # maximize\n",
    "    c = 2**15\n",
    "    if abs(u) <= c:\n",
    "        return 2**16 - 1\n",
    "    # |u| > c\n",
    "    return c * (u / abs(u))\n",
    "\n",
    "def MI(X,Y):\n",
    "    '''\n",
    "    Mutual information, maximize this\n",
    "    '''\n",
    "    bins = 256\n",
    "    X = np.ravel(X)\n",
    "    Y = np.ravel(Y)\n",
    "    c_XY = np.histogram2d(X,Y, bins=bins)[0]\n",
    "    c_X = np.histogram(X, bins=bins)[0]\n",
    "    c_Y = np.histogram(Y, bins=bins)[0]\n",
    "\n",
    "    H_X = shan_entropy(c_X)\n",
    "    H_Y = shan_entropy(c_Y)\n",
    "    H_XY = shan_entropy(c_XY)\n",
    "\n",
    "    return H_X + H_Y - H_XY\n",
    "\n",
    "def shan_entropy(c):\n",
    "    c_normalized = c / float(np.sum(c))\n",
    "    c_normalized = c_normalized[np.nonzero(c_normalized)]\n",
    "    return -sum(c_normalized* np.log2(c_normalized)) # same as scipy.stats.entropy(c_norm, base=2)\n",
    "\n",
    "\n",
    "# NCC whitening\n",
    "from sklearn.linear_model import LinearRegression\n",
    "\n",
    "def lpc(a,b):\n",
    "    '''\n",
    "    create a 2d linear prediction and return the coefficients\n",
    "    '''\n",
    "    lr = LinearRegression()\n",
    "    lr.fit(a,b)\n",
    "    return lr.coef_\n",
    "\n",
    "def NCC_whiten(im1, im2):\n",
    "    '''\n",
    "    whiten the images based on a '2D prediction error filter' of the reference image (im1)\n",
    "    '''\n",
    "    a_pred = lpc(im1, im2)\n",
    "    im1 += np.square(abs(im1 - a_pred))\n",
    "    im2 += np.square(abs(im2 - a_pred))\n",
    "    return (im1, im2)"
   ]
  },
  {
   "cell_type": "code",
   "execution_count": 442,
   "metadata": {},
   "outputs": [],
   "source": [
    "s = 64\n",
    "newsize = (s,s)\n",
    "temp1 = Image.open('../data/T1_segment_1.tif').resize(newsize)\n",
    "temp2 = Image.open('../data/T1_segment_2.tif').resize(newsize)\n",
    "\n",
    "im1 = np.array(temp1).astype('float64')\n",
    "p = int(im1.shape[0])\n",
    "im1 = np.pad(im1, ((p,p), (p,p)), 'constant', constant_values=(0,0))\n",
    "im2 = np.array(temp2).astype('float64')"
   ]
  },
  {
   "cell_type": "code",
   "execution_count": 437,
   "metadata": {},
   "outputs": [],
   "source": [
    "# face     = im1 - im1.mean()\n",
    "# template = im2 - im2.mean()\n",
    "# corr = signal.correlate2d(face, template, mode='same')\n",
    "# y, x = np.unravel_index(np.argmax(corr), corr.shape)\n",
    "\n",
    "face = im1\n",
    "template = im2\n",
    "corr = convolve(face, template, NCC)\n",
    "y, x = np.unravel_index(np.argmax(corr), corr.shape)\n",
    "\n",
    "# # For this method we need to whiten the images slightly beforehand.\n",
    "# face, template = NCC_whiten(np.array(temp1).astype('float64'), np.array(temp2).astype('float64'))\n",
    "# face = np.pad(face, ((p,p), (p,p)), 'constant', constant_values=(0,0))\n",
    "# corr = convolve(face, template, NCC)\n",
    "# y, x = np.unravel_index(np.argmax(corr), corr.shape)"
   ]
  },
  {
   "cell_type": "code",
   "execution_count": 6,
   "metadata": {},
   "outputs": [
    {
     "data": {
      "text/plain": [
       "(192, 192)"
      ]
     },
     "execution_count": 6,
     "metadata": {},
     "output_type": "execute_result"
    }
   ],
   "source": [
    "corr.shape"
   ]
  },
  {
   "cell_type": "code",
   "execution_count": 7,
   "metadata": {},
   "outputs": [
    {
     "data": {
      "text/plain": [
       "(61, 11)"
      ]
     },
     "execution_count": 7,
     "metadata": {},
     "output_type": "execute_result"
    }
   ],
   "source": [
    "x-p,y-p"
   ]
  },
  {
   "cell_type": "code",
   "execution_count": 7,
   "metadata": {},
   "outputs": [
    {
     "ename": "NameError",
     "evalue": "name 'face' is not defined",
     "output_type": "error",
     "traceback": [
      "\u001b[0;31m---------------------------------------------------------------------------\u001b[0m",
      "\u001b[0;31mNameError\u001b[0m                                 Traceback (most recent call last)",
      "\u001b[0;32m<ipython-input-7-53cd873aa2f2>\u001b[0m in \u001b[0;36m<module>\u001b[0;34m()\u001b[0m\n\u001b[1;32m     10\u001b[0m     \u001b[0mplt\u001b[0m\u001b[0;34m.\u001b[0m\u001b[0mshow\u001b[0m\u001b[0;34m(\u001b[0m\u001b[0;34m)\u001b[0m\u001b[0;34m\u001b[0m\u001b[0m\n\u001b[1;32m     11\u001b[0m \u001b[0;34m\u001b[0m\u001b[0m\n\u001b[0;32m---> 12\u001b[0;31m \u001b[0mshow_registration\u001b[0m\u001b[0;34m(\u001b[0m\u001b[0mface\u001b[0m\u001b[0;34m,\u001b[0m \u001b[0mcorr\u001b[0m\u001b[0;34m,\u001b[0m \u001b[0;34m(\u001b[0m\u001b[0mx\u001b[0m\u001b[0;34m,\u001b[0m\u001b[0my\u001b[0m\u001b[0;34m)\u001b[0m\u001b[0;34m)\u001b[0m\u001b[0;34m\u001b[0m\u001b[0m\n\u001b[0m",
      "\u001b[0;31mNameError\u001b[0m: name 'face' is not defined"
     ]
    }
   ],
   "source": [
    "import matplotlib.pyplot as plt\n",
    "\n",
    "def show_registration(padded_image, correlation, coord):\n",
    "    fig, (ax_orig, ax_corr) = plt.subplots(1, 2, figsize=(6, 12))\n",
    "    ax_orig.imshow(padded_image, cmap='gray')\n",
    "    ax_orig.set_title('Original')\n",
    "    ax_corr.imshow(correlation)\n",
    "    ax_corr.set_title('Cross-correlation')\n",
    "    ax_orig.plot(coord[0], coord[1], 'ro')\n",
    "    plt.show()\n",
    "    \n",
    "show_registration(face, corr, (x,y))"
   ]
  },
  {
   "cell_type": "markdown",
   "metadata": {},
   "source": [
    "merge the images given the x,y homography"
   ]
  },
  {
   "cell_type": "code",
   "execution_count": 9,
   "metadata": {},
   "outputs": [],
   "source": [
    "from math import floor\n",
    "from PIL import Image\n",
    "\n",
    "def paste(canvas, paint):\n",
    "    '''\n",
    "    Paste an image on to another using masks.\n",
    "    '''\n",
    "    h, w = canvas.shape\n",
    "    p_h, p_w = paint.shape\n",
    "    nw, nh = (0,0)\n",
    "    if w < p_w:\n",
    "        nw = p_w - w\n",
    "    if h < p_h:\n",
    "        nh = p_h - h\n",
    "    output = np.copy(canvas)\n",
    "    output = np.pad(output, ((0, nh), (0, nw)), 'constant', constant_values=(0,0))\n",
    "    assert output.shape[0] == paint.shape[0], 'different heights: %d %d'% (output.shape[0], paint.shape[0])\n",
    "    assert output.shape[1] == paint.shape[1], 'different widths: %d %d' % (output.shape[1], paint.shape[1])\n",
    "    # mask magic!\n",
    "    o_mask = np.ma.equal(output, 0)\n",
    "    output[o_mask] = paint[o_mask] # for places where output is 0: paint.\n",
    "    return output"
   ]
  },
  {
   "cell_type": "code",
   "execution_count": 10,
   "metadata": {},
   "outputs": [],
   "source": [
    "half_y = int(temp1.size[0] / 2)\n",
    "half_x = int(temp1.size[1] / 2)\n",
    "\n",
    "nx = x - p\n",
    "ny = y - p\n",
    "\n",
    "# There is the assumption here that the image is below or right of the reference image\n",
    "nx = nx - half_x\n",
    "ny = ny - half_y\n",
    "\n",
    "sides = (nx,0)\n",
    "if nx < 0:\n",
    "    sides = (0, abs(nx))\n",
    "\n",
    "verts = (ny,0)\n",
    "if ny < 0:\n",
    "    verts = (0, abs(ny))\n",
    "\n",
    "# temp4 = np.pad(np.asarray(temp2, dtype='uint16'), ((ny, 0), (nx, 0)), 'constant', constant_values=(0,0))\n",
    "temp4 = np.pad(np.asarray(temp2, dtype='uint16'), (verts, sides), 'constant', constant_values=(0,0))\n",
    "im3 = paste(np.asarray(temp1, dtype='uint16'), temp4)"
   ]
  },
  {
   "cell_type": "code",
   "execution_count": 11,
   "metadata": {},
   "outputs": [
    {
     "data": {
      "text/plain": [
       "(29, -21)"
      ]
     },
     "execution_count": 11,
     "metadata": {},
     "output_type": "execute_result"
    }
   ],
   "source": [
    "nx, ny"
   ]
  },
  {
   "cell_type": "code",
   "execution_count": 12,
   "metadata": {},
   "outputs": [
    {
     "data": {
      "image/png": "[encoded data removed]",
      "text/plain": [
       "<matplotlib.figure.Figure at 0x1c174c3860>"
      ]
     },
     "metadata": {},
     "output_type": "display_data"
    }
   ],
   "source": [
    "plt.imshow(im3)\n",
    "axs = plt.gca()\n",
    "axs.plot(nx+half_x, ny+half_y, 'ro')\n",
    "plt.show()"
   ]
  },
  {
   "cell_type": "markdown",
   "metadata": {},
   "source": [
    "## Heirarchical Schemes\n",
    "\n",
    "(We shouldn't call them \"pyramid schemes\", those are somehting else. Go with \"pyramid**al**\".) This strategy uses the initial transformation from the convolution to significantly narrow down the search space, using just a few levels these (3-4) it should be possible to stitch the full size images precisely.  \n",
    "\n",
    "This still takes a long time. The whole image is still convolved and a lot of it is over 0 valued pixels. There should be a way to just examine the pixels of the reference image which have values. This is an absurdly naive scheme and needs improvement. Imrpovements to be made: \n",
    "\n",
    "- ✅~~Faster similarity measurement (MI is much too slow here, NCC just about tolerable).~~ Start the pyramid at a much smaller size.\n",
    "- ~~Subsampling /~~ smoothing as you **ascend** the pyramid\n",
    "- ✅smaller search window for each level. (start larger, narrow it down as you ascend)\n",
    "- smarter convolution, i.e. ignore the empty pixels more\n",
    "- do some sort of filtering between the levels which enhances the maximums."
   ]
  },
  {
   "cell_type": "code",
   "execution_count": 416,
   "metadata": {},
   "outputs": [],
   "source": [
    "from math import ceil, sqrt\n",
    "\n",
    "def convolve_range(im, template, op, ranges=None):\n",
    "    '''\n",
    "    ranges in the form of ((x1, y1),(x2, y2))\n",
    "    '''\n",
    "    h_len, w_len = im.shape\n",
    "    th, tw = template.shape\n",
    "    offset_h, offset_w = (int(th/2), int(tw/2))\n",
    "    op_res = fill_fn(op, (h_len, w_len))\n",
    "    if ranges != None:\n",
    "        start_i, start_j = ranges[0]\n",
    "        end_i, end_j = ranges[1]\n",
    "        for i in range(start_i, end_i):\n",
    "            for j in range(start_j, end_j):\n",
    "                # print('i: %d:%d, j: %d:%d' % (i, i+th, j, j+tw))\n",
    "                op_res[i+offset_h, j+offset_w] = op(im[i:i+th, j:j+tw], template)\n",
    "        return op_res    \n",
    "    \n",
    "    for i in range(start_i, h_len-th+1):\n",
    "            for j in range(start_j, w_len-tw+1):\n",
    "                op_res[i+offset_h, j+offset_w] = op(im[i:i+th, j:j+tw], template)\n",
    "    return op_res\n",
    "    \n",
    "def pyramidal(ref_name, mov_name, measurement, levels=[0.05, 0.25, 0.5], im_filter=None):\n",
    "    '''\n",
    "    Find a better transformation, from a previously found one, on progressively larger images.\n",
    "    levels is an array of: tuples with pixel sizes, integers to be pixel_sizes, floats as a percentage.\n",
    "    '''\n",
    "    p = 0 # size of moving image\n",
    "    T      = (None, None) # transformation, (y,x)\n",
    "    temp_T = (None, None) # temporary_T, these are the unscaled values from the correlation matrix\n",
    "    new_size = None # copy and resize ref and mov to this size each level.\n",
    "    old_size = None # previous hierarchy, used to scale T on next level.\n",
    "#     w_size = 32       # window size, each level after the first examines from Tx-w_size, Tx+w_size\n",
    "    ref_src = Image.open('../data/%s' % ref_name) # reference image\n",
    "    mov_src = Image.open('../data/%s' % mov_name) # moving image\n",
    "    # begin\n",
    "    for level in levels:\n",
    "        new_size = None\n",
    "        if type(level) is tuple:\n",
    "            assert level[0].is_integer(), 'pixel size in tuple must be an integer'\n",
    "            new_size = level\n",
    "        elif type(level) is int:\n",
    "            new_size = (level, level)\n",
    "        elif level <= 1.0:\n",
    "            ny, nx = ref_src.size\n",
    "            new_size = (int(ny * level), int(nx * level))\n",
    "        w_size = sqrt(new_size[0])\n",
    "        print('level: %.02f, size:%s, T:%s' % (level, new_size, T,))\n",
    "        assert (new_size[0] <= ref_src.size[0]) and (new_size[1] <= ref_src.size[1]), \\\n",
    "               'the image is being scaled up?: %s to %s' % (ref_src.size, new_size,)\n",
    "            \n",
    "        # find a better transformation\n",
    "        if T != (None, None):\n",
    "            # difference in scale\n",
    "            scale = (new_size[0] / old_size[0])\n",
    "            # scale images\n",
    "            ref = np.array(ref_src.copy().resize(new_size)).astype('float64')\n",
    "            mov = np.array(mov_src.copy().resize(new_size)).astype('float64')\n",
    "            if im_filter != None:\n",
    "                ref = im_filter(ref)\n",
    "                mov = im_filter(ref)\n",
    "            # pad ref image\n",
    "            p = int(mov.shape[0])\n",
    "            ref = np.pad(ref, ((p,p), (p,p)), 'constant', constant_values=(0,0))\n",
    "            # establish a range to look for a better T, after scaleing T, add offsets\n",
    "            ranges = (                                                            \\\n",
    "                      (int(T[0]*scale-w_size), int(T[1]*scale-w_size)), \\\n",
    "                      (int(T[0]*scale+w_size), int(T[1]*scale+w_size))  \\\n",
    "                     )\n",
    "            # find next T\n",
    "            # print(T, ref.shape, mov.shape, ranges, level_diff)\n",
    "            corr = convolve_range(ref, mov, measurement, ranges=ranges)\n",
    "            temp_T = np.unravel_index(objective_function(measurement)(corr), corr.shape)\n",
    "        # Find initial transformation\n",
    "        else:\n",
    "            # rescale images\n",
    "            ref = np.array(ref_src.copy().resize(new_size)).astype('float64')\n",
    "            mov = np.array(mov_src.copy().resize(new_size)).astype('float64')\n",
    "            if im_filter != None:\n",
    "                ref = im_filter(ref)\n",
    "                mov = im_filter(ref)\n",
    "            # pad reference     \n",
    "            p = int(mov.shape[0])\n",
    "            ref = np.pad(ref, ((p,p), (p,p)), 'constant', constant_values=(0,0))\n",
    "            # find initial T\n",
    "            corr = convolve(ref, mov, measurement)\n",
    "            temp_T = np.unravel_index(objective_function(measurement)(corr), corr.shape)\n",
    "\n",
    "        T = (int(temp_T[0] - int(p/2)), \\\n",
    "             int(temp_T[1] - int(p/2)) )\n",
    "        show_registration(ref, corr, temp_T[::-1])\n",
    "        old_size = new_size\n",
    "        \n",
    "    return ref_src, mov_src, T"
   ]
  },
  {
   "cell_type": "code",
   "execution_count": 446,
   "metadata": {},
   "outputs": [
    {
     "name": "stdout",
     "output_type": "stream",
     "text": [
      "level: 16.00, size:(16, 16), T:(None, None)\n"
     ]
    },
    {
     "data": {
      "image/png": "[encoded data removed]",
      "text/plain": [
       "<matplotlib.figure.Figure at 0x1c1ab6be80>"
      ]
     },
     "metadata": {},
     "output_type": "display_data"
    },
    {
     "name": "stdout",
     "output_type": "stream",
     "text": [
      "level: 64.00, size:(64, 64), T:(12, 23)\n"
     ]
    },
    {
     "data": {
      "image/png": "[encoded data removed]",
      "text/plain": [
       "<matplotlib.figure.Figure at 0x1c1b96fb38>"
      ]
     },
     "metadata": {},
     "output_type": "display_data"
    },
    {
     "name": "stdout",
     "output_type": "stream",
     "text": [
      "level: 128.00, size:(128, 128), T:(43, 93)\n"
     ]
    },
    {
     "data": {
      "image/png": "[encoded data removed]",
      "text/plain": [
       "<matplotlib.figure.Figure at 0x1c21c934a8>"
      ]
     },
     "metadata": {},
     "output_type": "display_data"
    },
    {
     "data": {
      "text/plain": [
       "(87, 186)"
      ]
     },
     "execution_count": 446,
     "metadata": {},
     "output_type": "execute_result"
    }
   ],
   "source": [
    "ref, mov, transformation = pyramidal('T1_segment_1.tif', 'T1_segment_2.tif', NCC, levels=[16, 64, 128])\n",
    "transformation"
   ]
  },
  {
   "cell_type": "markdown",
   "metadata": {},
   "source": [
    "## Find rotation offset"
   ]
  },
  {
   "cell_type": "code",
   "execution_count": 12,
   "metadata": {},
   "outputs": [],
   "source": [
    "def tuple_sub(t1, t2):\n",
    "    return (t1[0] - t2[0], t1[1] - t2[1])\n",
    "\n",
    "def bounds_equalize(target, ref):\n",
    "    yd,xd = tuple_sub(target.shape, ref.shape)\n",
    "    if yd < 0:\n",
    "        ref = ref[:yd,:]\n",
    "    else:\n",
    "        ref = np.pad(ref, ((0,yd), (0,0)), 'constant', constant_values=(0,0))\n",
    "        \n",
    "    if xd < 0:\n",
    "        ref = ref[:,:xd]\n",
    "    else:\n",
    "        ref = np.pad(ref, ((0,0), (0,xd)), 'constant', constant_values=(0,0))\n",
    "        \n",
    "    return ref"
   ]
  },
  {
   "cell_type": "code",
   "execution_count": 33,
   "metadata": {},
   "outputs": [],
   "source": [
    "from scipy import ndimage\n",
    "\n",
    "def iterative(ref_name, mov_name, measurement=NCC, theta_range=(-45,45)):\n",
    "    ref_src = Image.open('../data/%s' % ref_name)\n",
    "    mov_src = Image.open('../data/%s' % mov_name) \n",
    "    \n",
    "    # if moving image is rotated, it's going to be larger than ref.\n",
    "#     ns_ref = (128, 128)\n",
    "#     ns_ref = (64, 64)\n",
    "    ns_ref = (32, 32)\n",
    "#     ns_ref = (16, 16)\n",
    "    ns_mov = (int(ns_ref[0] * mov_src.size[0] / ref_src.size[0]), \n",
    "              int(ns_ref[1] * mov_src.size[1] / ref_src.size[1]))\n",
    "    \n",
    "    dtype = 'uint16'\n",
    "    ref = np.array(ref_src.copy().resize(ns_ref)).astype(dtype)\n",
    "    mov_orig = np.array(mov_src.copy().resize(ns_mov)).astype(dtype)\n",
    "    # when the image is rotated it may be larger, fill this value in the new places.\n",
    "    inorm = 2**15\n",
    "    \n",
    "    # initialize transformation parameters\n",
    "    prev_x, prev_y = (np.inf, np.inf)\n",
    "    x,y = (0,0)\n",
    "    prev_theta = np.inf\n",
    "    total_theta = 0\n",
    "    \n",
    "    # terminate when there are no more translational and rotational changes\n",
    "    while x != prev_x and y != prev_y and total_theta != prev_theta: \n",
    "        # rotate from previous transform\n",
    "        mov = mov_orig.copy()\n",
    "        if total_theta != 0:\n",
    "            mov = ndimage.rotate(mov_orig, -total_theta, reshape=False)\n",
    "            mov[mov == 0] = inorm\n",
    "            \n",
    "        # find best x,y\n",
    "        p = int(mov.shape[0])\n",
    "        ref_padded = np.pad(ref, ((p,p), (p,p)), 'constant', constant_values=(0,0))\n",
    "        xy_corr = convolve(ref_padded, mov, measurement)\n",
    "        prev_x, prev_y = (x,y)\n",
    "        y,x = np.unravel_index(objective_function(measurement)(xy_corr), xy_corr.shape)\n",
    "        p2 = int(p/2)\n",
    "        show_registration(ref_padded, xy_corr, (x,y))\n",
    "        \n",
    "        # find best theta\n",
    "        thetas = list(range(theta_range[0], theta_range[1]+1))\n",
    "        theta_corr = []\n",
    "        for theta in thetas:\n",
    "            # rotate moving image, may change here if reshape=True.\n",
    "            mov_r = ndimage.rotate(mov, -theta, reshape=False)\n",
    "            mov_r[mov_r== 0] = inorm\n",
    "            ref_range = ref_padded[y-p2:y+p2, x-p2:x+p2]\n",
    "            mov_r = bounds_equalize(ref_range, mov_r)\n",
    "            c = measurement(ref_range, mov_r)\n",
    "            # store measurement value\n",
    "            theta_corr.append(c)\n",
    "        # recover the best theta\n",
    "        prev_theta = total_theta\n",
    "        total_theta += thetas[objective_function(measurement)(theta_corr)]\n",
    "        # plot images, (debug)\n",
    "        mov_r = ndimage.rotate(mov_orig, -total_theta, reshape=False)\n",
    "        show_registration(ref, mov_r, (x-p,y-p))\n",
    "        print(x-p, y-p, total_theta)\n",
    "    return (x, y, total_theta)"
   ]
  },
  {
   "cell_type": "code",
   "execution_count": null,
   "metadata": {},
   "outputs": [
    {
     "data": {
      "image/png": "[encoded data removed]",
      "text/plain": [
       "<matplotlib.figure.Figure at 0x1c19f481d0>"
      ]
     },
     "metadata": {},
     "output_type": "display_data"
    },
    {
     "data": {
      "image/png": "[encoded data removed]",
      "text/plain": [
       "<matplotlib.figure.Figure at 0x1c1b74a4e0>"
      ]
     },
     "metadata": {},
     "output_type": "display_data"
    },
    {
     "name": "stdout",
     "output_type": "stream",
     "text": [
      "16 15 -15\n"
     ]
    }
   ],
   "source": [
    "# transformation = iterative('S2_segment_rot_1.tif', 'S2_segment_rot_3.tif', NCC)\n",
    "transformation = iterative('T1_segment_rot_1.tif', 'T1_segment_rot_2.tif', MI)\n",
    "transformation"
   ]
  },
  {
   "cell_type": "code",
   "execution_count": null,
   "metadata": {},
   "outputs": [],
   "source": []
  }
 ],
 "metadata": {
  "kernelspec": {
   "display_name": "Python 3",
   "language": "python",
   "name": "python3"
  },
  "language_info": {
   "codemirror_mode": {
    "name": "ipython",
    "version": 3
   },
   "file_extension": ".py",
   "mimetype": "text/x-python",
   "name": "python",
   "nbconvert_exporter": "python",
   "pygments_lexer": "ipython3",
   "version": "3.6.4"
  }
 },
 "nbformat": 4,
 "nbformat_minor": 2
}

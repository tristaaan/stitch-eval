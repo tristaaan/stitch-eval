{
 "cells": [
  {
   "cell_type": "markdown",
   "metadata": {},
   "source": [
    "# Data preprocessor"
   ]
  },
  {
   "cell_type": "code",
   "execution_count": 25,
   "metadata": {},
   "outputs": [
    {
     "name": "stdout",
     "output_type": "stream",
     "text": [
      "directory already exists\n"
     ]
    },
    {
     "data": {
      "text/plain": [
       "['../data/learning\\\\Tp26_Y000_X000_040.tif',\n",
       " '../data/learning\\\\Tp26_Y000_X001_040.tif',\n",
       " '../data/learning\\\\Tp26_Y000_X002_040.tif',\n",
       " '../data/learning\\\\Tp26_Y000_X003_040.tif',\n",
       " '../data/learning\\\\Tp26_Y000_X004_040.tif']"
      ]
     },
     "execution_count": 25,
     "metadata": {},
     "output_type": "execute_result"
    }
   ],
   "source": [
    "import os\n",
    "import glob\n",
    "import cv2\n",
    "import pandas as pd\n",
    "\n",
    "from os import mkdir\n",
    "\n",
    "def load_img_paths(target):\n",
    "    '''\n",
    "    Retrieve the full path of all images in the dataset\n",
    "    '''\n",
    "    return glob.glob(target + '/*.tif')\n",
    "\n",
    "output_dir = '../data/learning'\n",
    "try: \n",
    "    mkdir(output_dir)\n",
    "except FileExistsError:\n",
    "    print('directory already exists')\n",
    "\n",
    "data_dir = r'../data'\n",
    "original_data_dir = data_dir + ('/learning')\n",
    "all_files = load_img_paths(original_data_dir)\n",
    "all_files[:5]"
   ]
  },
  {
   "cell_type": "code",
   "execution_count": 20,
   "metadata": {},
   "outputs": [],
   "source": [
    "# For learning folder\n",
    "def image_pair_coords(fname, ):\n",
    "    '''\n",
    "    get an image's pair in one for four directions\n",
    "    '''\n",
    "    im_coords = path.split(fname)[-1] \\\n",
    "                        .split('.')[0]    \\\n",
    "                        .split('_')[1:3]\n",
    "    good_direction = False\n",
    "    while not good_direction:\n",
    "        #     direction = np.random.randint(0,4)\n",
    "        direction = np.random.choice([1,3]) # horizontal only\n",
    "        y_part = int(im_coords[0].split('Y')[1])\n",
    "        x_part = int(im_coords[1].split('X')[1])\n",
    "        if direction == 0:\n",
    "            y_part -=1\n",
    "        elif direction == 1:\n",
    "            x_part +=1\n",
    "        elif direction == 2:\n",
    "            y_part +=1\n",
    "        else: #direction == 3:\n",
    "            x_part -=1\n",
    "            \n",
    "        if x_part >= xmin and x_part <= xmax and \\\n",
    "           y_part >= ymin and y_part <= ymax:\n",
    "            good_direction = True\n",
    "\n",
    "    ystr = str(y_part).rjust(2,'0')\n",
    "    xstr = str(x_part).rjust(2,'0')\n",
    "    fpath = path.split(fname)[:-1][0]\n",
    "    next_fname = path.join(fpath, 'Tp26_Y0%s_X0%s_040.tif' % (ystr, xstr))\n",
    "    return next_fname       \n",
    "\n",
    "# For learning2 folder, or anything generated from the im_split script\n",
    "def image_pair_coords_learning2(fname):\n",
    "    im_id = path.split(fname)[-1]         \\\n",
    "                        .split('.')[0]    \\\n",
    "                        .split('_')[-1]\n",
    "    image_max = max(map(lambda x: int(x.split('.')[-2].split('_')[-1]), train_paths))\n",
    "    rows = int(math.sqrt(image_max))\n",
    "    im_id = int(im_id)\n",
    "    target_id = -1\n",
    "    good_direction = False\n",
    "    while not good_direction:\n",
    "        direction = np.random.randint(0,4)\n",
    "        if direction == 0: # right\n",
    "            target_id = im_id-1\n",
    "        elif direction == 1: # top\n",
    "            target_id = im_id-rows\n",
    "        elif direction == 2: # left \n",
    "            target_id = im_id+1\n",
    "        else: #direction == 3: # bottom\n",
    "            target_id = im_id+rows\n",
    "        \n",
    "        # left edge image cannot have right direction, right edge image cannot have left dir.\n",
    "        if (im_id % rows == 0 and direction == 2) or \\\n",
    "           (im_id % rows == 1 and direction == 0): \n",
    "            good_direction = False\n",
    "        elif target_id > 0 and target_id <= image_max:\n",
    "            good_direction = True\n",
    "            \n",
    "    fpath = path.split(fname)[:-1][0]\n",
    "    next_fname = path.join(fpath, 'T1_segment_%d.tif' % (target_id))\n",
    "    return next_fname"
   ]
  },
  {
   "cell_type": "code",
   "execution_count": 27,
   "metadata": {},
   "outputs": [],
   "source": [
    "import os\n",
    "\n",
    "df = pd.DataFrame(columns=['ref', 'mov'])\n",
    "\n",
    "ymin=0\n",
    "ymax=7\n",
    "\n",
    "xmin=0\n",
    "xmax=14\n",
    "\n",
    "for f in all_files:\n",
    "    fname = os.path.basename(f)\n",
    "    fpath = os.path.split(fname)[:-1][0]\n",
    "\n",
    "    y,x = os.path.split(fname)[-1]  \\\n",
    "                        .split('.')[0] \\\n",
    "                        .split('_')[1:3]\n",
    "    x = int(x[1:])\n",
    "    y = int(y[1:])\n",
    "    \n",
    "    if x < xmax and x > xmin:\n",
    "        coords = [x+1, x-1]\n",
    "    elif x == xmax:\n",
    "        coords = [x-1]\n",
    "    else: # x == xmin\n",
    "        coords = [x+1]\n",
    "    for x in coords:\n",
    "        ystr = str(y).rjust(2,'0')\n",
    "        xstr = str(x).rjust(2,'0')\n",
    "        \n",
    "        next_fname = os.path.join(fpath, 'Tp26_Y0%s_X0%s_040.tif' % (ystr, xstr))\n",
    "        df = df.append({'ref':fname, 'mov':next_fname}, ignore_index=True)\n",
    "\n",
    "df.to_csv(os.path.join(output_dir, 'horiz_pairs.csv'))"
   ]
  },
  {
   "cell_type": "code",
   "execution_count": 28,
   "metadata": {},
   "outputs": [
    {
     "data": {
      "text/html": [
       "<div>\n",
       "<style scoped>\n",
       "    .dataframe tbody tr th:only-of-type {\n",
       "        vertical-align: middle;\n",
       "    }\n",
       "\n",
       "    .dataframe tbody tr th {\n",
       "        vertical-align: top;\n",
       "    }\n",
       "\n",
       "    .dataframe thead th {\n",
       "        text-align: right;\n",
       "    }\n",
       "</style>\n",
       "<table border=\"1\" class=\"dataframe\">\n",
       "  <thead>\n",
       "    <tr style=\"text-align: right;\">\n",
       "      <th></th>\n",
       "      <th>ref</th>\n",
       "      <th>mov</th>\n",
       "    </tr>\n",
       "  </thead>\n",
       "  <tbody>\n",
       "    <tr>\n",
       "      <th>0</th>\n",
       "      <td>Tp26_Y000_X000_040.tif</td>\n",
       "      <td>Tp26_Y000_X001_040.tif</td>\n",
       "    </tr>\n",
       "    <tr>\n",
       "      <th>1</th>\n",
       "      <td>Tp26_Y000_X001_040.tif</td>\n",
       "      <td>Tp26_Y000_X002_040.tif</td>\n",
       "    </tr>\n",
       "    <tr>\n",
       "      <th>2</th>\n",
       "      <td>Tp26_Y000_X001_040.tif</td>\n",
       "      <td>Tp26_Y000_X000_040.tif</td>\n",
       "    </tr>\n",
       "    <tr>\n",
       "      <th>3</th>\n",
       "      <td>Tp26_Y000_X002_040.tif</td>\n",
       "      <td>Tp26_Y000_X003_040.tif</td>\n",
       "    </tr>\n",
       "    <tr>\n",
       "      <th>4</th>\n",
       "      <td>Tp26_Y000_X002_040.tif</td>\n",
       "      <td>Tp26_Y000_X001_040.tif</td>\n",
       "    </tr>\n",
       "  </tbody>\n",
       "</table>\n",
       "</div>"
      ],
      "text/plain": [
       "                      ref                     mov\n",
       "0  Tp26_Y000_X000_040.tif  Tp26_Y000_X001_040.tif\n",
       "1  Tp26_Y000_X001_040.tif  Tp26_Y000_X002_040.tif\n",
       "2  Tp26_Y000_X001_040.tif  Tp26_Y000_X000_040.tif\n",
       "3  Tp26_Y000_X002_040.tif  Tp26_Y000_X003_040.tif\n",
       "4  Tp26_Y000_X002_040.tif  Tp26_Y000_X001_040.tif"
      ]
     },
     "execution_count": 28,
     "metadata": {},
     "output_type": "execute_result"
    }
   ],
   "source": [
    "df.head()"
   ]
  },
  {
   "cell_type": "code",
   "execution_count": 29,
   "metadata": {},
   "outputs": [
    {
     "data": {
      "text/plain": [
       "224"
      ]
     },
     "execution_count": 29,
     "metadata": {},
     "output_type": "execute_result"
    }
   ],
   "source": [
    "len(df)"
   ]
  },
  {
   "cell_type": "code",
   "execution_count": null,
   "metadata": {},
   "outputs": [],
   "source": []
  }
 ],
 "metadata": {
  "kernelspec": {
   "display_name": "Python 3",
   "language": "python",
   "name": "python3"
  },
  "language_info": {
   "codemirror_mode": {
    "name": "ipython",
    "version": 3
   },
   "file_extension": ".py",
   "mimetype": "text/x-python",
   "name": "python",
   "nbconvert_exporter": "python",
   "pygments_lexer": "ipython3",
   "version": "3.6.5"
  }
 },
 "nbformat": 4,
 "nbformat_minor": 2
}

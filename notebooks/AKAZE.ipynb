{
 "cells": [
  {
   "cell_type": "markdown",
   "metadata": {},
   "source": [
    "# SIFT\n",
    "\n",
    "SIFT is a feature based image registration algorithm developed by David Lowe in 1999. It works by detecting feature points between two images and switching them based on common points between the two images. Its applications range from basic panorama creation to satellite imagery, and facial recognition in video.\n",
    "\n",
    "There are five major steps:\n",
    "\n",
    "- **scale-space construction**: convolving an image repeatedly using Gaussian filter with changing scales\n",
    "- **scale space extrema detection**: Difference of Gaussian (DoG) images are computed from Gaussian-blurred images\n",
    "- **keybpoint localization**: identified as local extrma of DoG across the scales.\n",
    "- **orientation assignment**: low contrast keypoints and edge response points are discarded\n",
    "- **defining keypoint descriptors**: assigned one or more orientations based on the local image gradient directions\n",
    "\n",
    "Orientation histograms are formed over heighborhoods of keypoints. A normalized 128-dimensional vector is computed for each keypoint as its _descriptor_. Nearest neighbor of a keypoint in the first image is identified from a database of keypoints from the second image. RANSAC is used to remove outpiers and to compute the transformation parameters between a pari of frames. Finally, they are warped using transformation parameters to create the mosaic image.\n",
    "\n",
    "## But we're not using SIFT here, we're using AKAZE\n",
    "[OpenCV python matcher](https://docs.opencv.org/3.0-beta/doc/py_tutorials/py_feature2d/py_matcher/py_matcher.html)."
   ]
  },
  {
   "cell_type": "code",
   "execution_count": 183,
   "metadata": {},
   "outputs": [],
   "source": [
    "import cv2\n",
    "import imageio"
   ]
  },
  {
   "cell_type": "code",
   "execution_count": 184,
   "metadata": {},
   "outputs": [],
   "source": [
    "def get_akaze_keypoints(im):\n",
    "    akaze = cv2.AKAZE_create()\n",
    "    return akaze.detectAndCompute(im, None)"
   ]
  },
  {
   "cell_type": "code",
   "execution_count": 185,
   "metadata": {},
   "outputs": [],
   "source": [
    "im1 = imageio.imread('../data/T1_segment_1.tif')\n",
    "im2 = imageio.imread('../data/T1_segment_2.tif')\n",
    "\n",
    "(kp_1, desc_1) = get_akaze_keypoints(im1)\n",
    "(kp_2, desc_2) = get_akaze_keypoints(im2)"
   ]
  },
  {
   "cell_type": "code",
   "execution_count": 186,
   "metadata": {},
   "outputs": [],
   "source": [
    "bf = cv2.BFMatcher()\n",
    "# Match descriptors.\n",
    "matches = bf.knnMatch(desc_1, desc_2, k=2)\n",
    "\n",
    "# Sort them in the order of their distance.\n",
    "# matches = sorted(matches, key = lambda x:x.distance)"
   ]
  },
  {
   "cell_type": "code",
   "execution_count": 187,
   "metadata": {},
   "outputs": [],
   "source": [
    "import numpy as np\n",
    "import matplotlib.pyplot as plt\n",
    "import matplotlib.lines as mlines\n",
    "%matplotlib inline\n",
    "\n",
    "def concat_images(imga, imgb):\n",
    "    \"\"\"\n",
    "    Combines two color image ndarrays side-by-side\n",
    "    This could use PIL.Image.paste, but it complains about tuples.\n",
    "    \"\"\"\n",
    "    ha,wa = imga.shape[:2]\n",
    "    hb,wb = imgb.shape[:2]\n",
    "    max_height = np.max([ha, hb])\n",
    "    total_width = wa+wb\n",
    "    new_img = np.zeros(shape=(max_height, total_width))\n",
    "    new_img[:ha,:wa]=imga\n",
    "    new_img[:hb,wa:wa+wb]=imgb\n",
    "    return new_img"
   ]
  },
  {
   "cell_type": "code",
   "execution_count": null,
   "metadata": {},
   "outputs": [],
   "source": [
    "im3 = concat_images(im1, im2)\n",
    "\n",
    "fig=plt.figure(figsize=(18, 16), dpi=72)\n",
    "plt.imshow(im3)\n",
    "\n",
    "ax = plt.gca()\n",
    "for m,n in matches[::50]:\n",
    "    if m.distance < 0.75*n.distance:\n",
    "        kp_a = kp_1[m.queryIdx].pt\n",
    "        kp_b = kp_2[m.trainIdx].pt\n",
    "        l = mlines.Line2D([kp_a[0], kp_b[0]+im1.shape[0]], \n",
    "                          [kp_a[1], kp_b[1]], color='r')\n",
    "        ax.add_line(l)\n",
    "        \n",
    "plt.show()"
   ]
  },
  {
   "cell_type": "code",
   "execution_count": null,
   "metadata": {},
   "outputs": [],
   "source": []
  }
 ],
 "metadata": {
  "kernelspec": {
   "display_name": "Python 3",
   "language": "python",
   "name": "python3"
  },
  "language_info": {
   "codemirror_mode": {
    "name": "ipython",
    "version": 3
   },
   "file_extension": ".py",
   "mimetype": "text/x-python",
   "name": "python",
   "nbconvert_exporter": "python",
   "pygments_lexer": "ipython3",
   "version": "3.6.4"
  }
 },
 "nbformat": 4,
 "nbformat_minor": 2
}

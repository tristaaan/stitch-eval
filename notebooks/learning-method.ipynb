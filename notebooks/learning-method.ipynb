{
 "cells": [
  {
   "cell_type": "markdown",
   "metadata": {},
   "source": [
    "# Learning based methods\n",
    "\n",
    "This is a model which takes a collection of images and figures out how to align them using an unsupervised approach. It is based on a paper by de Vos, Beredensen, Viergever, Sokooti, Staring, Isgum: [https://arxiv.org/pdf/1809.06130.pdf]()."
   ]
  },
  {
   "cell_type": "code",
   "execution_count": 1,
   "metadata": {},
   "outputs": [
    {
     "name": "stderr",
     "output_type": "stream",
     "text": [
      "C:\\Users\\TWright\\Anaconda3\\envs\\tensorflow-gpu\\lib\\site-packages\\h5py\\__init__.py:36: FutureWarning: Conversion of the second argument of issubdtype from `float` to `np.floating` is deprecated. In future, it will be treated as `np.float64 == np.dtype(float).type`.\n",
      "  from ._conv import register_converters as _register_converters\n"
     ]
    },
    {
     "name": "stdout",
     "output_type": "stream",
     "text": [
      "[name: \"/device:CPU:0\"\n",
      "device_type: \"CPU\"\n",
      "memory_limit: 268435456\n",
      "locality {\n",
      "}\n",
      "incarnation: 183846903519456144\n",
      ", name: \"/device:GPU:0\"\n",
      "device_type: \"GPU\"\n",
      "memory_limit: 3421679616\n",
      "locality {\n",
      "  bus_id: 1\n",
      "  links {\n",
      "  }\n",
      "}\n",
      "incarnation: 14006157777682604237\n",
      "physical_device_desc: \"device: 0, name: GeForce GTX 970, pci bus id: 0000:01:00.0, compute capability: 5.2\"\n",
      "]\n"
     ]
    },
    {
     "data": {
      "text/plain": [
       "<tensorflow.python.client.session.Session at 0x4cdfba8>"
      ]
     },
     "execution_count": 1,
     "metadata": {},
     "output_type": "execute_result"
    }
   ],
   "source": [
    "import glob\n",
    "import pandas as pd\n",
    "import numpy as np\n",
    "\n",
    "import tensorflow as tf\n",
    "from tensorflow.python.client import device_lib\n",
    "print(device_lib.list_local_devices())\n",
    "\n",
    "config = tf.ConfigProto()\n",
    "# config.gpu_options.allocator_type = 'BFC'\n",
    "tf.Session(config = config)"
   ]
  },
  {
   "cell_type": "code",
   "execution_count": 2,
   "metadata": {},
   "outputs": [
    {
     "data": {
      "text/plain": [
       "['../data/learning\\\\Tp26_Y000_X000_040.tif',\n",
       " '../data/learning\\\\Tp26_Y000_X001_040.tif',\n",
       " '../data/learning\\\\Tp26_Y000_X002_040.tif',\n",
       " '../data/learning\\\\Tp26_Y000_X003_040.tif',\n",
       " '../data/learning\\\\Tp26_Y000_X004_040.tif']"
      ]
     },
     "execution_count": 2,
     "metadata": {},
     "output_type": "execute_result"
    }
   ],
   "source": [
    "def load_img_paths(target):\n",
    "    '''\n",
    "    Retrieve the full path of all images in the dataset\n",
    "    '''\n",
    "    return glob.glob(target + '/*.tif')\n",
    "\n",
    "data_dir = r'../data'\n",
    "original_data_dir = data_dir + ('/learning')\n",
    "all_files = pd.DataFrame(load_img_paths(original_data_dir))\n",
    "all_files = all_files[0].values.tolist()\n",
    "all_files[:5]"
   ]
  },
  {
   "cell_type": "code",
   "execution_count": 3,
   "metadata": {},
   "outputs": [],
   "source": [
    "train_paths = all_files"
   ]
  },
  {
   "cell_type": "code",
   "execution_count": 4,
   "metadata": {},
   "outputs": [],
   "source": [
    "class NCC():\n",
    "    \"\"\"\n",
    "    local (over window) normalized cross correlation\n",
    "    \"\"\"\n",
    "\n",
    "    def __init__(self, win=None, eps=1e-5):\n",
    "        self.win = win\n",
    "        self.eps = eps\n",
    "\n",
    "\n",
    "    def ncc(self, I, J):\n",
    "        # get dimension of volume\n",
    "        # assumes I, J are sized [batch_size, *vol_shape, nb_feats]\n",
    "        ndims = len(I.get_shape().as_list()) - 2\n",
    "        assert ndims in [1, 2, 3], \"volumes should be 1 to 3 dimensions. found: %d\" % ndims\n",
    "\n",
    "        # set window size\n",
    "        if self.win is None:\n",
    "            self.win = [9] * ndims\n",
    "\n",
    "        # get convolution function\n",
    "        conv_fn = getattr(tf.nn, 'conv%dd' % ndims)\n",
    "\n",
    "        # compute CC squares\n",
    "        I2 = I*I\n",
    "        J2 = J*J\n",
    "        IJ = I*J\n",
    "\n",
    "        # compute filters\n",
    "        sum_filt = tf.ones([*self.win, 1, 1])\n",
    "        strides = [1] * (ndims + 2)\n",
    "        padding = 'SAME'\n",
    "\n",
    "        # compute local sums via convolution\n",
    "        I_sum = conv_fn(I, sum_filt, strides, padding)\n",
    "        J_sum = conv_fn(J, sum_filt, strides, padding)\n",
    "        I2_sum = conv_fn(I2, sum_filt, strides, padding)\n",
    "        J2_sum = conv_fn(J2, sum_filt, strides, padding)\n",
    "        IJ_sum = conv_fn(IJ, sum_filt, strides, padding)\n",
    "\n",
    "        # compute cross correlation\n",
    "        win_size = np.prod(self.win)\n",
    "        u_I = I_sum/win_size\n",
    "        u_J = J_sum/win_size\n",
    "\n",
    "        cross = IJ_sum - u_J*I_sum - u_I*J_sum + u_I*u_J*win_size\n",
    "        I_var = I2_sum - 2 * u_I * I_sum + u_I*u_I*win_size\n",
    "        J_var = J2_sum - 2 * u_J * J_sum + u_J*u_J*win_size\n",
    "\n",
    "        cc = cross*cross / (I_var*J_var + self.eps)\n",
    "\n",
    "        # return negative cc.\n",
    "        return tf.reduce_mean(cc)\n",
    "\n",
    "    def loss(self, I, J):\n",
    "        return - self.ncc(I, J)"
   ]
  },
  {
   "cell_type": "markdown",
   "metadata": {},
   "source": [
    "## Network\n",
    "\n",
    "> A ConvNet design for affine image registration. The network analyzes pairs of fixed and moving images in separate pipelines. Ending each pipeline with global average pooling enables analysis of input images of different sizes, and allows concatenation with the fully connected layers that have a fixed number of nodes connected to 12 affne transformation parameter outputs.\n",
    "\n",
    "> The two separate pipelines analyze input pairs of fixed and moving images and each consist of five alternating 3x3x3 convolution layers and 2x2x2 downsampling layers. The number of these layers may vary, depending on task complexity and input image size. The weights of the layers are shared between the two pipelines to limit the number of total parameters in the network.\n",
    "\n",
    "> The Conv-Nets were initialized with Glorot's uniform distribution (Glorot and Bengio, 2010) and optimized with Adam.\n",
    "\n",
    "> Subsequently, the network can be connected to a neural network work that will decode the relative orientations of the fixed and moving images and convert those to 12 affine transformation parameters: *three translation*, *three rotation*, *three scaling*, and *three shearing parameters*.\n",
    "\n",
    "2D images -> Two translation, `x,y`, one rotation `theta`, one scaling `s`, two shearing `gx, gy` = 6 parameters"
   ]
  },
  {
   "cell_type": "code",
   "execution_count": 28,
   "metadata": {},
   "outputs": [],
   "source": [
    "from keras.layers.core import Dense\n",
    "from keras.layers.convolutional import Convolution2D\n",
    "from keras.layers import Input, Conv2D, AveragePooling2D, GlobalAveragePooling2D, concatenate, Reshape\n",
    "from keras.models import Sequential, Model\n",
    "\n",
    "from m_stn import BilinearInterpolation\n",
    "\n",
    "def get_initial_weights(output_size):\n",
    "    b = np.zeros((2, 3), dtype='float32')\n",
    "    b[0, 0] = 1\n",
    "    b[1, 1] = 1\n",
    "    W = np.zeros((output_size, 6), dtype='float32')\n",
    "    weights = [W, b.flatten()]\n",
    "    return weights\n",
    "\n",
    "def dlir_layer(m1, m2, filters):\n",
    "    '''\n",
    "    alternating 3x3 convolution layers and 2x2 downsampling layers\n",
    "    '''\n",
    "    conv= Conv2D(filters, (3,3), activation='relu', padding='same')\n",
    "    avg = AveragePooling2D() # default size is 2x2\n",
    "    return avg(conv(m1)), avg(conv(m2))\n",
    "    \n",
    "def affine_pipeline(input_shape):\n",
    "    '''\n",
    "    five alternating 3x3 convolution layers and 2x2 downsampling layers\n",
    "    Ending each pipeline with global average pooling\n",
    "    '''\n",
    "    filters = 32\n",
    "    in1 = Input(shape=input_shape, name='moving_input')\n",
    "    in2 = Input(shape=input_shape, name='reference_input')\n",
    "    m1, m2 = dlir_layer(in1, in2, filters)\n",
    "    m1, m2 = dlir_layer(m1, m2, filters)\n",
    "    m1, m2 = dlir_layer(m1, m2, filters)\n",
    "    m1, m2 = dlir_layer(m1, m2, filters)\n",
    "    \n",
    "    conv = Conv2D(filters, (3,3), activation='relu', padding='same')\n",
    "    glob_avg = GlobalAveragePooling2D()\n",
    "    \n",
    "    return in1, in2, glob_avg(conv(m1)), glob_avg(conv(m2))\n",
    "    \n",
    "def my_DLIR(input_shape):\n",
    "    '''\n",
    "    Implement DLIR architecture\n",
    "    '''\n",
    "    input_1, input_2, moving_pipeline, reference_pipeline = affine_pipeline(input_shape)\n",
    "    \n",
    "    cat = concatenate([moving_pipeline, reference_pipeline])\n",
    "    cat = Dense(2048, activation='relu')(cat)\n",
    "    affine_transform = Dense(6, activation='linear', weights=get_initial_weights(2048), name='affine_params')(cat)\n",
    "    \n",
    "    image_output = BilinearInterpolation(input_shape[:-1])([input_2, affine_transform])\n",
    "    return Model(inputs=[input_1, input_2], outputs=[image_output])\n"
   ]
  },
  {
   "cell_type": "code",
   "execution_count": 29,
   "metadata": {
    "scrolled": true
   },
   "outputs": [
    {
     "name": "stdout",
     "output_type": "stream",
     "text": [
      "__________________________________________________________________________________________________\n",
      "Layer (type)                    Output Shape         Param #     Connected to                     \n",
      "==================================================================================================\n",
      "reference_input (InputLayer)    (None, 195, 256, 1)  0                                            \n",
      "__________________________________________________________________________________________________\n",
      "moving_input (InputLayer)       (None, 195, 256, 1)  0                                            \n",
      "__________________________________________________________________________________________________\n",
      "conv2d_16 (Conv2D)              (None, 195, 256, 32) 320         moving_input[0][0]               \n",
      "                                                                 reference_input[0][0]            \n",
      "__________________________________________________________________________________________________\n",
      "average_pooling2d_13 (AveragePo (None, 97, 128, 32)  0           conv2d_16[0][0]                  \n",
      "                                                                 conv2d_16[1][0]                  \n",
      "__________________________________________________________________________________________________\n",
      "conv2d_17 (Conv2D)              (None, 97, 128, 32)  9248        average_pooling2d_13[0][0]       \n",
      "                                                                 average_pooling2d_13[1][0]       \n",
      "__________________________________________________________________________________________________\n",
      "average_pooling2d_14 (AveragePo (None, 48, 64, 32)   0           conv2d_17[0][0]                  \n",
      "                                                                 conv2d_17[1][0]                  \n",
      "__________________________________________________________________________________________________\n",
      "conv2d_18 (Conv2D)              (None, 48, 64, 32)   9248        average_pooling2d_14[0][0]       \n",
      "                                                                 average_pooling2d_14[1][0]       \n",
      "__________________________________________________________________________________________________\n",
      "average_pooling2d_15 (AveragePo (None, 24, 32, 32)   0           conv2d_18[0][0]                  \n",
      "                                                                 conv2d_18[1][0]                  \n",
      "__________________________________________________________________________________________________\n",
      "conv2d_19 (Conv2D)              (None, 24, 32, 32)   9248        average_pooling2d_15[0][0]       \n",
      "                                                                 average_pooling2d_15[1][0]       \n",
      "__________________________________________________________________________________________________\n",
      "average_pooling2d_16 (AveragePo (None, 12, 16, 32)   0           conv2d_19[0][0]                  \n",
      "                                                                 conv2d_19[1][0]                  \n",
      "__________________________________________________________________________________________________\n",
      "conv2d_20 (Conv2D)              (None, 12, 16, 32)   9248        average_pooling2d_16[0][0]       \n",
      "                                                                 average_pooling2d_16[1][0]       \n",
      "__________________________________________________________________________________________________\n",
      "global_average_pooling2d_4 (Glo (None, 32)           0           conv2d_20[0][0]                  \n",
      "                                                                 conv2d_20[1][0]                  \n",
      "__________________________________________________________________________________________________\n",
      "concatenate_4 (Concatenate)     (None, 64)           0           global_average_pooling2d_4[0][0] \n",
      "                                                                 global_average_pooling2d_4[1][0] \n",
      "__________________________________________________________________________________________________\n",
      "dense_7 (Dense)                 (None, 2048)         133120      concatenate_4[0][0]              \n",
      "__________________________________________________________________________________________________\n",
      "affine_params (Dense)           (None, 6)            12294       dense_7[0][0]                    \n",
      "__________________________________________________________________________________________________\n",
      "bilinear_interpolation_4 (Bilin (None, 195, 256, 1)  0           reference_input[0][0]            \n",
      "                                                                 affine_params[0][0]              \n",
      "==================================================================================================\n",
      "Total params: 182,726\n",
      "Trainable params: 182,726\n",
      "Non-trainable params: 0\n",
      "__________________________________________________________________________________________________\n"
     ]
    }
   ],
   "source": [
    "from keras.optimizers import Adam\n",
    "from skimage.io import imread\n",
    "\n",
    "def aspect_resize(newsize, shape):\n",
    "    '''\n",
    "    Given an integer and a shape, return a tuple with the longest side of the shape = newsize\n",
    "    '''\n",
    "    m = np.argmax(shape)\n",
    "    if m == 0:\n",
    "        return (newsize, int(shape[1] / (shape[0] / newsize)))\n",
    "    return (int(shape[0] / (shape[1] / newsize)), newsize, 1)\n",
    "\n",
    "orig_shape = imread(all_files[0]).shape\n",
    "img_size = aspect_resize(256, orig_shape)\n",
    "\n",
    "my_model = my_DLIR(img_size)\n",
    "# my_model.compile(loss=NCC().loss, optimizer=Adam(lr=1e-4))\n",
    "my_model.compile(loss='mse', optimizer=Adam(lr=1e-4))\n",
    "my_model.summary()"
   ]
  },
  {
   "cell_type": "code",
   "execution_count": 30,
   "metadata": {},
   "outputs": [
    {
     "name": "stdout",
     "output_type": "stream",
     "text": [
      "tmp directory already exists\n"
     ]
    }
   ],
   "source": [
    "from os import path\n",
    "from keras.callbacks import ModelCheckpoint, Callback, EarlyStopping\n",
    "from keras.preprocessing.image import img_to_array, load_img\n",
    "from keras.utils import Sequence\n",
    "from skimage.transform import resize\n",
    "\n",
    "class LossHistory(Callback):\n",
    "    def on_train_begin(self, logs={}):\n",
    "        self.losses = []\n",
    "        self.val_losses = []\n",
    "\n",
    "    def on_batch_end(self, batch, logs={}):\n",
    "        self.losses.append(logs.get('loss'))\n",
    "        self.val_losses.append(logs.get('val_loss'))\n",
    "        \n",
    "def image_pair_coords(fname, ymin=0, ymax=7, xmin=0, xmax=14):\n",
    "    '''\n",
    "    get an image's pair.\n",
    "    '''\n",
    "    im_coords = path.split(fname)[-1] \\\n",
    "                        .split('.')[0]    \\\n",
    "                        .split('_')[1:3]\n",
    "    y_part = int(im_coords[0].split('Y')[1])\n",
    "    x_part = int(im_coords[1].split('X')[1])\n",
    "    if y_part == ymin:\n",
    "        y_part = ymin+1\n",
    "    elif y_part == ymax:\n",
    "        y_part = ymax-1\n",
    "    else:\n",
    "        y_part  = y_part+1 if np.random.random() > 0.5 else y_part-1\n",
    "\n",
    "    if x_part == xmin:\n",
    "        x_part = xmin+1\n",
    "    elif x_part == xmax:\n",
    "        x_part = xmax-1\n",
    "    else:\n",
    "        x_part = x_part+1 if np.random.random() > 0.5 else x_part-1\n",
    "\n",
    "    ystr = str(y_part).rjust(2,'0')\n",
    "    xstr = str(x_part).rjust(2,'0')\n",
    "    fpath = path.split(fname)[:-1][0]\n",
    "    next_fname = path.join(fpath, 'Tp26_Y0%s_X0%s_040.tif' % (ystr, xstr))\n",
    "    return next_fname       \n",
    "        \n",
    "class DataGenerator(Sequence):\n",
    "    '''\n",
    "    Adapted from https://stanford.edu/~shervine/blog/keras-how-to-generate-data-on-the-fly.html\n",
    "    Allows for multiprocessing in the fit generator\n",
    "    '''\n",
    "\n",
    "    def __init__(self, train_set, val_set, batch_size, im_size):\n",
    "        self.train, self.val = train_set, val_set\n",
    "        self.batch_size = batch_size\n",
    "        self.im_size = im_size\n",
    "\n",
    "    def __len__(self):\n",
    "        return int(np.ceil(len(self.train) / float(self.batch_size)))\n",
    "\n",
    "    # Will output sequence of tuples (image, test) given a datapath\n",
    "    def __getitem__(self, idx):\n",
    "        X1 = np.zeros(shape=(batch_size, self.im_size[0], self.im_size[1], 1))\n",
    "        X2 = np.zeros(shape=(batch_size, self.im_size[0], self.im_size[1], 1))\n",
    "        y  = np.zeros(shape=(batch_size, self.im_size[0], self.im_size[1], 1))\n",
    "        batch = self.train[idx * self.batch_size:(idx + 1) * self.batch_size]\n",
    "        for j,fname in enumerate(batch):\n",
    "            # to speed this up preprocess the images so they aren't resized on the fly\n",
    "            X1[j] = img_to_array(load_img(fname, target_size=self.im_size, grayscale=True))\n",
    "            fname_moving = image_pair_coords(fname)\n",
    "            X2[j] = img_to_array(load_img(fname_moving, target_size=self.im_size, grayscale=True))\n",
    "            y[j] = X1[j]\n",
    "        return ([X1, X2], y)\n",
    "\n",
    "    \n",
    "early_stopping = EarlyStopping(monitor='val_loss', patience=5, verbose=1, mode='auto')\n",
    "\n",
    "# create weights file if it doesn't exist for ModelCheckpoint\n",
    "from os import mkdir\n",
    "try: \n",
    "    mkdir('tmp')\n",
    "except FileExistsError:\n",
    "    print('tmp directory already exists')\n",
    "\n",
    "# history function\n",
    "history = LossHistory()"
   ]
  },
  {
   "cell_type": "code",
   "execution_count": 31,
   "metadata": {
    "scrolled": false
   },
   "outputs": [
    {
     "name": "stdout",
     "output_type": "stream",
     "text": [
      "Epoch 1/32\n",
      " - 4s - loss: 7278.2522\n",
      "Epoch 2/32\n"
     ]
    },
    {
     "name": "stderr",
     "output_type": "stream",
     "text": [
      "C:\\Users\\TWright\\Anaconda3\\envs\\tensorflow-gpu\\lib\\site-packages\\keras\\callbacks.py:435: RuntimeWarning: Can save best model only with val_loss available, skipping.\n",
      "  'skipping.' % (self.monitor), RuntimeWarning)\n",
      "C:\\Users\\TWright\\Anaconda3\\envs\\tensorflow-gpu\\lib\\site-packages\\keras\\callbacks.py:526: RuntimeWarning: Early stopping conditioned on metric `val_loss` which is not available. Available metrics are: loss\n",
      "  (self.monitor, ','.join(list(logs.keys()))), RuntimeWarning\n"
     ]
    },
    {
     "name": "stdout",
     "output_type": "stream",
     "text": [
      " - 1s - loss: 21627.5863\n",
      "Epoch 3/32\n",
      " - 1s - loss: 34034.5208\n",
      "Epoch 4/32\n",
      " - 1s - loss: 35192.3602\n",
      "Epoch 5/32\n",
      " - 1s - loss: 35192.3604\n",
      "Epoch 6/32\n",
      " - 1s - loss: 35192.3602\n",
      "Epoch 7/32\n",
      " - 1s - loss: 35192.3615\n",
      "Epoch 8/32\n",
      " - 1s - loss: 35192.3612\n",
      "Epoch 9/32\n",
      " - 1s - loss: 35192.3604\n",
      "Epoch 10/32\n",
      " - 1s - loss: 35192.3599\n",
      "Epoch 11/32\n",
      " - 1s - loss: 35192.3607\n",
      "Epoch 12/32\n",
      " - 1s - loss: 35192.3594\n",
      "Epoch 13/32\n",
      " - 1s - loss: 35192.3615\n",
      "Epoch 14/32\n",
      " - 1s - loss: 35192.3604\n",
      "Epoch 15/32\n",
      " - 1s - loss: 35192.3607\n",
      "Epoch 16/32\n",
      " - 1s - loss: 35192.3607\n",
      "Epoch 17/32\n",
      " - 1s - loss: 35192.3609\n",
      "Epoch 18/32\n",
      " - 1s - loss: 35192.3607\n",
      "Epoch 19/32\n",
      " - 1s - loss: 35192.3596\n",
      "Epoch 20/32\n",
      " - 1s - loss: 35192.3609\n",
      "Epoch 21/32\n",
      " - 1s - loss: 35192.3604\n",
      "Epoch 22/32\n",
      " - 1s - loss: 35192.3615\n",
      "Epoch 23/32\n",
      " - 1s - loss: 35192.3602\n",
      "Epoch 24/32\n",
      " - 1s - loss: 35192.3604\n",
      "Epoch 25/32\n",
      " - 1s - loss: 35192.3607\n",
      "Epoch 26/32\n",
      " - 1s - loss: 35192.3607\n",
      "Epoch 27/32\n",
      " - 1s - loss: 35192.3604\n",
      "Epoch 28/32\n",
      " - 1s - loss: 35192.3604\n",
      "Epoch 29/32\n",
      " - 1s - loss: 35192.3599\n",
      "Epoch 30/32\n",
      " - 1s - loss: 35192.3604\n",
      "Epoch 31/32\n",
      " - 1s - loss: 35192.3607\n",
      "Epoch 32/32\n",
      " - 1s - loss: 35192.3612\n"
     ]
    }
   ],
   "source": [
    "batch_size = 8\n",
    "epochs     = 32\n",
    "steps_per_epoch  = int(len(train_paths) / batch_size)\n",
    "training_generator = DataGenerator(train_paths, [], batch_size, img_size)\n",
    "\n",
    "# descriptive weight file naming\n",
    "checkpointer = ModelCheckpoint(filepath=('tmp/weights-%d-%d.hdf5' % \n",
    "                                         (batch_size, img_size[0])), \n",
    "                               verbose=1, save_best_only=True)\n",
    "\n",
    "hist = my_model.fit_generator(training_generator,\n",
    "    epochs=epochs,\n",
    "    workers=3,\n",
    "    verbose=2,\n",
    "    callbacks=[history, checkpointer, early_stopping]\n",
    ")"
   ]
  },
  {
   "cell_type": "code",
   "execution_count": 32,
   "metadata": {
    "scrolled": true
   },
   "outputs": [
    {
     "data": {
      "image/png": "[encoded data removed]",
      "text/plain": [
       "<Figure size 864x576 with 1 Axes>"
      ]
     },
     "metadata": {},
     "output_type": "display_data"
    }
   ],
   "source": [
    "import matplotlib.pylab as plt\n",
    "%matplotlib inline\n",
    "\n",
    "plt.figure(figsize=(12,8))\n",
    "plt.plot(hist.epoch,hist.history['loss'], label='Test')\n",
    "# plt.plot(hist.epoch,hist.history['val_loss'],label='Validation',linestyle='--')\n",
    "plt.xlabel('Epochs')\n",
    "plt.ylabel('NCC')\n",
    "plt.legend()\n",
    "plt.show()"
   ]
  },
  {
   "cell_type": "code",
   "execution_count": 33,
   "metadata": {
    "scrolled": true
   },
   "outputs": [
    {
     "name": "stderr",
     "output_type": "stream",
     "text": [
      "C:\\Users\\TWright\\Anaconda3\\envs\\tensorflow-gpu\\lib\\site-packages\\skimage\\transform\\_warps.py:84: UserWarning: The default mode, 'constant', will be changed to 'reflect' in skimage 0.15.\n",
      "  warn(\"The default mode, 'constant', will be changed to 'reflect' in \"\n"
     ]
    },
    {
     "name": "stdout",
     "output_type": "stream",
     "text": [
      "Tensor(\"affine_params/BiasAdd:0\", shape=(?, 6), dtype=float32)\n"
     ]
    }
   ],
   "source": [
    "im1 = resize(imread(all_files[1]), img_size)\n",
    "im2 = resize(imread(all_files[2]), img_size)\n",
    "im1 = im1.reshape(-1, *img_size)\n",
    "im2 = im2.reshape(-1, *img_size)\n",
    "im3 = my_model.predict([im1, im2])"
   ]
  },
  {
   "cell_type": "code",
   "execution_count": 37,
   "metadata": {},
   "outputs": [
    {
     "data": {
      "text/plain": [
       "array([[ 0.99488765,  0.0023994 ,  0.01330745],\n",
       "       [-0.00423812,  0.9969763 ,  0.00108849]], dtype=float32)"
      ]
     },
     "execution_count": 37,
     "metadata": {},
     "output_type": "execute_result"
    }
   ],
   "source": [
    "# \n",
    "intermediate_model = Model(inputs=[my_model.get_layer('reference_input').input, \n",
    "                                   my_model.get_layer('moving_input').input], \n",
    "                           outputs=[my_model.get_layer('affine_params').output])\n",
    "intermediate_model.predict([im1, im2])[0].reshape(2,3)"
   ]
  },
  {
   "cell_type": "code",
   "execution_count": 20,
   "metadata": {
    "scrolled": true
   },
   "outputs": [
    {
     "data": {
      "image/png": "[encoded data removed]",
      "text/plain": [
       "<Figure size 432x288 with 1 Axes>"
      ]
     },
     "metadata": {},
     "output_type": "display_data"
    }
   ],
   "source": [
    "import matplotlib.pyplot as plt\n",
    "plt.imshow(im3[0][:,:,-1], cmap='gray')\n",
    "plt.show()"
   ]
  },
  {
   "cell_type": "code",
   "execution_count": null,
   "metadata": {},
   "outputs": [],
   "source": []
  }
 ],
 "metadata": {
  "kernelspec": {
   "display_name": "Python 3",
   "language": "python",
   "name": "python3"
  },
  "language_info": {
   "codemirror_mode": {
    "name": "ipython",
    "version": 3
   },
   "file_extension": ".py",
   "mimetype": "text/x-python",
   "name": "python",
   "nbconvert_exporter": "python",
   "pygments_lexer": "ipython3",
   "version": "3.6.5"
  }
 },
 "nbformat": 4,
 "nbformat_minor": 2
}
